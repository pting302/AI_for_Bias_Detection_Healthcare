get_ipython().run_cell_magic("html", "", """<style>
@import url('https://fonts.googleapis.com/css2@family=JetBrains+Mono:wght@300@display=swap');
* {
    font-family: 'JetBrains Mono', monospace;
}
</style>""")



