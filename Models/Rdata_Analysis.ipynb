{
 "cells": [
  {
   "cell_type": "code",
   "execution_count": 1,
   "metadata": {},
   "outputs": [],
   "source": [
    "import pyreadr\n",
    "import numpy as np\n",
    "import pandas as pd\n",
    "import matplotlib.pyplot as plt\n",
    "import seaborn as sns\n",
    "from scipy.stats import chi2_contingency\n",
    "import imblearn\n",
    "from sklearn.preprocessing import LabelEncoder\n",
    "import fastai\n",
    "from fastai import *\n",
    "import fastai.tabular.all"
   ]
  },
  {
   "cell_type": "code",
   "execution_count": 2,
   "metadata": {},
   "outputs": [],
   "source": [
    "data_file = '../5v_cleandf.rdata'\n",
    "r_format = pyreadr.read_r(data_file)"
   ]
  },
  {
   "cell_type": "code",
   "execution_count": 3,
   "metadata": {},
   "outputs": [
    {
     "data": {
      "text/plain": [
       "odict_keys(['df'])"
      ]
     },
     "execution_count": 3,
     "metadata": {},
     "output_type": "execute_result"
    }
   ],
   "source": [
    "r_format.keys()"
   ]
  },
  {
   "cell_type": "code",
   "execution_count": 4,
   "metadata": {},
   "outputs": [
    {
     "data": {
      "text/html": [
       "<div>\n",
       "<style scoped>\n",
       "    .dataframe tbody tr th:only-of-type {\n",
       "        vertical-align: middle;\n",
       "    }\n",
       "\n",
       "    .dataframe tbody tr th {\n",
       "        vertical-align: top;\n",
       "    }\n",
       "\n",
       "    .dataframe thead th {\n",
       "        text-align: right;\n",
       "    }\n",
       "</style>\n",
       "<table border=\"1\" class=\"dataframe\">\n",
       "  <thead>\n",
       "    <tr style=\"text-align: right;\">\n",
       "      <th></th>\n",
       "      <th>0</th>\n",
       "      <th>1</th>\n",
       "      <th>2</th>\n",
       "      <th>3</th>\n",
       "      <th>4</th>\n",
       "    </tr>\n",
       "  </thead>\n",
       "  <tbody>\n",
       "    <tr>\n",
       "      <th>dep_name</th>\n",
       "      <td>B</td>\n",
       "      <td>B</td>\n",
       "      <td>B</td>\n",
       "      <td>A</td>\n",
       "      <td>A</td>\n",
       "    </tr>\n",
       "    <tr>\n",
       "      <th>esi</th>\n",
       "      <td>4</td>\n",
       "      <td>4</td>\n",
       "      <td>2</td>\n",
       "      <td>2</td>\n",
       "      <td>3</td>\n",
       "    </tr>\n",
       "    <tr>\n",
       "      <th>age</th>\n",
       "      <td>40</td>\n",
       "      <td>66</td>\n",
       "      <td>66</td>\n",
       "      <td>66</td>\n",
       "      <td>84</td>\n",
       "    </tr>\n",
       "    <tr>\n",
       "      <th>gender</th>\n",
       "      <td>Male</td>\n",
       "      <td>Male</td>\n",
       "      <td>Male</td>\n",
       "      <td>Male</td>\n",
       "      <td>Female</td>\n",
       "    </tr>\n",
       "    <tr>\n",
       "      <th>ethnicity</th>\n",
       "      <td>Hispanic or Latino</td>\n",
       "      <td>Hispanic or Latino</td>\n",
       "      <td>Hispanic or Latino</td>\n",
       "      <td>Hispanic or Latino</td>\n",
       "      <td>Hispanic or Latino</td>\n",
       "    </tr>\n",
       "    <tr>\n",
       "      <th>...</th>\n",
       "      <td>...</td>\n",
       "      <td>...</td>\n",
       "      <td>...</td>\n",
       "      <td>...</td>\n",
       "      <td>...</td>\n",
       "    </tr>\n",
       "    <tr>\n",
       "      <th>cc_woundcheck</th>\n",
       "      <td>0</td>\n",
       "      <td>0</td>\n",
       "      <td>0</td>\n",
       "      <td>0</td>\n",
       "      <td>0</td>\n",
       "    </tr>\n",
       "    <tr>\n",
       "      <th>cc_woundinfection</th>\n",
       "      <td>0</td>\n",
       "      <td>0</td>\n",
       "      <td>0</td>\n",
       "      <td>0</td>\n",
       "      <td>0</td>\n",
       "    </tr>\n",
       "    <tr>\n",
       "      <th>cc_woundre-evaluation</th>\n",
       "      <td>0</td>\n",
       "      <td>0</td>\n",
       "      <td>0</td>\n",
       "      <td>0</td>\n",
       "      <td>0</td>\n",
       "    </tr>\n",
       "    <tr>\n",
       "      <th>cc_wristinjury</th>\n",
       "      <td>0</td>\n",
       "      <td>0</td>\n",
       "      <td>0</td>\n",
       "      <td>0</td>\n",
       "      <td>0</td>\n",
       "    </tr>\n",
       "    <tr>\n",
       "      <th>cc_wristpain</th>\n",
       "      <td>0</td>\n",
       "      <td>0</td>\n",
       "      <td>0</td>\n",
       "      <td>0</td>\n",
       "      <td>0</td>\n",
       "    </tr>\n",
       "  </tbody>\n",
       "</table>\n",
       "<p>972 rows × 5 columns</p>\n",
       "</div>"
      ],
      "text/plain": [
       "                                        0                   1  \\\n",
       "dep_name                                B                   B   \n",
       "esi                                     4                   4   \n",
       "age                                    40                  66   \n",
       "gender                               Male                Male   \n",
       "ethnicity              Hispanic or Latino  Hispanic or Latino   \n",
       "...                                   ...                 ...   \n",
       "cc_woundcheck                           0                   0   \n",
       "cc_woundinfection                       0                   0   \n",
       "cc_woundre-evaluation                   0                   0   \n",
       "cc_wristinjury                          0                   0   \n",
       "cc_wristpain                            0                   0   \n",
       "\n",
       "                                        2                   3  \\\n",
       "dep_name                                B                   A   \n",
       "esi                                     2                   2   \n",
       "age                                    66                  66   \n",
       "gender                               Male                Male   \n",
       "ethnicity              Hispanic or Latino  Hispanic or Latino   \n",
       "...                                   ...                 ...   \n",
       "cc_woundcheck                           0                   0   \n",
       "cc_woundinfection                       0                   0   \n",
       "cc_woundre-evaluation                   0                   0   \n",
       "cc_wristinjury                          0                   0   \n",
       "cc_wristpain                            0                   0   \n",
       "\n",
       "                                        4  \n",
       "dep_name                                A  \n",
       "esi                                     3  \n",
       "age                                    84  \n",
       "gender                             Female  \n",
       "ethnicity              Hispanic or Latino  \n",
       "...                                   ...  \n",
       "cc_woundcheck                           0  \n",
       "cc_woundinfection                       0  \n",
       "cc_woundre-evaluation                   0  \n",
       "cc_wristinjury                          0  \n",
       "cc_wristpain                            0  \n",
       "\n",
       "[972 rows x 5 columns]"
      ]
     },
     "execution_count": 4,
     "metadata": {},
     "output_type": "execute_result"
    }
   ],
   "source": [
    "df = r_format['df']\n",
    "df.head().T"
   ]
  },
  {
   "cell_type": "code",
   "execution_count": 5,
   "metadata": {},
   "outputs": [
    {
     "name": "stdout",
     "output_type": "stream",
     "text": [
      "dep_name\n",
      "esi\n",
      "age\n",
      "gender\n",
      "ethnicity\n",
      "race\n",
      "lang\n",
      "religion\n",
      "maritalstatus\n",
      "employstatus\n",
      "insurance_status\n",
      "disposition\n",
      "arrivalmode\n",
      "arrivalmonth\n",
      "arrivalday\n",
      "arrivalhour_bin\n",
      "previousdispo\n",
      "2ndarymalig\n",
      "abdomhernia\n",
      "abdomnlpain\n",
      "abortcompl\n",
      "acqfootdef\n",
      "acrenlfail\n",
      "acutecvd\n",
      "acutemi\n",
      "acutphanm\n",
      "adjustmentdisorders\n",
      "adltrespfl\n",
      "alcoholrelateddisorders\n",
      "allergy\n",
      "amniosdx\n",
      "analrectal\n",
      "anemia\n",
      "aneurysm\n",
      "anxietydisorders\n",
      "appendicitis\n",
      "artembolism\n",
      "asppneumon\n",
      "asthma\n",
      "attentiondeficitconductdisruptivebeha\n",
      "backproblem\n",
      "biliarydx\n",
      "birthasphyx\n",
      "birthtrauma\n",
      "bladdercncr\n",
      "blindness\n",
      "bnignutneo\n",
      "bonectcncr\n",
      "bph\n",
      "brainnscan\n",
      "breastcancr\n",
      "breastdx\n",
      "brnchlngca\n",
      "bronchitis\n",
      "burns\n",
      "cardiaarrst\n",
      "cardiacanom\n",
      "carditis\n",
      "cataract\n",
      "cervixcancr\n",
      "chestpain\n",
      "chfnonhp\n",
      "chrkidneydisease\n",
      "coaghemrdx\n",
      "coloncancer\n",
      "comabrndmg\n",
      "complicdevi\n",
      "complicproc\n",
      "conduction\n",
      "contraceptiv\n",
      "copd\n",
      "coronathero\n",
      "crushinjury\n",
      "cysticfibro\n",
      "deliriumdementiaamnesticothercognitiv\n",
      "developmentaldisorders\n",
      "diabmelnoc\n",
      "diabmelwcm\n",
      "disordersusuallydiagnosedininfancych\n",
      "diverticulos\n",
      "dizziness\n",
      "dminpreg\n",
      "dysrhythmia\n",
      "earlylabor\n",
      "ecodesadverseeffectsofmedicalcare\n",
      "ecodesadverseeffectsofmedicaldrugs\n",
      "ecodescutpierce\n",
      "ecodesdrowningsubmersion\n",
      "ecodesfall\n",
      "ecodesfirearm\n",
      "ecodesfireburn\n",
      "ecodesmachinery\n",
      "ecodesmotorvehicletrafficmvt\n",
      "ecodesnaturalenvironment\n",
      "ecodesotherspecifiedandclassifiable\n",
      "ecodesotherspecifiednec\n",
      "ecodespedalcyclistnotmvt\n",
      "ecodesplaceofoccurrence\n",
      "ecodespoisoning\n",
      "ecodesstruckbyagainst\n",
      "ecodessuffocation\n",
      "ecodestransportnotmvt\n",
      "ecodesunspecified\n",
      "ectopicpreg\n",
      "encephalitis\n",
      "endometrios\n",
      "epilepsycnv\n",
      "esophcancer\n",
      "esophgealdx\n",
      "exameval\n",
      "eyeinfectn\n",
      "fatigue\n",
      "femgenitca\n",
      "feminfertil\n",
      "fetaldistrs\n",
      "fluidelcdx\n",
      "fuo\n",
      "fxarm\n",
      "fxhip\n",
      "fxleg\n",
      "fxskullfac\n",
      "gangrene\n",
      "gasduoulcer\n",
      "gastritis\n",
      "gastroent\n",
      "giconganom\n",
      "gihemorrhag\n",
      "giperitcan\n",
      "glaucoma\n",
      "goutotcrys\n",
      "guconganom\n",
      "hdnckcancr\n",
      "headachemig\n",
      "hemmorhoids\n",
      "hemorrpreg\n",
      "hepatitis\n",
      "hivinfectn\n",
      "hodgkinsds\n",
      "hrtvalvedx\n",
      "htn\n",
      "htncomplicn\n",
      "htninpreg\n",
      "hyperlipidem\n",
      "immunitydx\n",
      "immunizscrn\n",
      "impulsecontroldisordersnec\n",
      "inducabortn\n",
      "infectarth\n",
      "influenza\n",
      "infmalegen\n",
      "intestinfct\n",
      "intobstruct\n",
      "intracrninj\n",
      "jointinjury\n",
      "kidnyrnlca\n",
      "lateeffcvd\n",
      "leukemias\n",
      "liveborn\n",
      "liveribdca\n",
      "longpregncy\n",
      "lowbirthwt\n",
      "lungexternl\n",
      "lymphenlarg\n",
      "maintchemr\n",
      "malgenitca\n",
      "maligneopls\n",
      "malposition\n",
      "meningitis\n",
      "menopausldx\n",
      "menstrualdx\n",
      "miscellaneousmentalhealthdisorders\n",
      "mooddisorders\n",
      "mouthdx\n",
      "ms\n",
      "multmyeloma\n",
      "mycoses\n",
      "nauseavomit\n",
      "neoplsmunsp\n",
      "nephritis\n",
      "nervcongan\n",
      "nonepithca\n",
      "nonhodglym\n",
      "nutritdefic\n",
      "obrelatedperintrauma\n",
      "opnwndextr\n",
      "opnwndhead\n",
      "osteoarthros\n",
      "osteoporosis\n",
      "otacqdefor\n",
      "otaftercare\n",
      "otbnignneo\n",
      "otbonedx\n",
      "otcirculdx\n",
      "otcomplbir\n",
      "otconganom\n",
      "otconntiss\n",
      "otdxbladdr\n",
      "otdxkidney\n",
      "otdxstomch\n",
      "otendodsor\n",
      "otfemalgen\n",
      "othbactinf\n",
      "othcnsinfx\n",
      "othematldx\n",
      "othercvd\n",
      "othereardx\n",
      "otheredcns\n",
      "othereyedx\n",
      "othergidx\n",
      "othergudx\n",
      "otherinjury\n",
      "otherpregnancyanddeliveryincludingnormal\n",
      "otherscreen\n",
      "othfracture\n",
      "othheartdx\n",
      "othinfectns\n",
      "othliverdx\n",
      "othlowresp\n",
      "othmalegen\n",
      "othnervdx\n",
      "othskindx\n",
      "othveindx\n",
      "otinflskin\n",
      "otitismedia\n",
      "otjointdx\n",
      "otnutritdx\n",
      "otperintdx\n",
      "otpregcomp\n",
      "otprimryca\n",
      "otrespirca\n",
      "otupprresp\n",
      "otuprspin\n",
      "ovariancyst\n",
      "ovarycancer\n",
      "pancreascan\n",
      "pancreasdx\n",
      "paralysis\n",
      "parkinsons\n",
      "pathologfx\n",
      "pelvicobstr\n",
      "perintjaund\n",
      "peripathero\n",
      "peritonitis\n",
      "personalitydisorders\n",
      "phlebitis\n",
      "pid\n",
      "pleurisy\n",
      "pneumonia\n",
      "poisnnonmed\n",
      "poisnotmed\n",
      "poisonpsych\n",
      "precereoccl\n",
      "prevcsectn\n",
      "prolapse\n",
      "prostatecan\n",
      "pulmhartdx\n",
      "rctmanusca\n",
      "rehab\n",
      "respdistres\n",
      "retinaldx\n",
      "rheumarth\n",
      "schizophreniaandotherpsychoticdisorde\n",
      "screeningandhistoryofmentalhealthan\n",
      "septicemia\n",
      "septicemiaexceptinlabor\n",
      "sexualinfxs\n",
      "shock\n",
      "sicklecell\n",
      "skininfectn\n",
      "skinmelanom\n",
      "sle\n",
      "socialadmin\n",
      "spincorinj\n",
      "spontabortn\n",
      "sprain\n",
      "stomchcancr\n",
      "substancerelateddisorders\n",
      "suicideandintentionalselfinflictedin\n",
      "superficinj\n",
      "syncope\n",
      "teethdx\n",
      "testiscancr\n",
      "thyroidcncr\n",
      "thyroiddsor\n",
      "tia\n",
      "tonsillitis\n",
      "tuberculosis\n",
      "ulceratcol\n",
      "ulcerskin\n",
      "umbilcord\n",
      "unclassified\n",
      "urinstone\n",
      "urinyorgca\n",
      "uteruscancr\n",
      "uti\n",
      "varicosevn\n",
      "viralinfect\n",
      "whtblooddx\n",
      "n_edvisits\n",
      "n_admissions\n",
      "absolutelymphocytecount_last\n",
      "acetonebld_last\n",
      "alanineaminotransferase(alt)_last\n",
      "albumin_last\n",
      "alkphos_last\n",
      "anc(absneutrophilcount)_last\n",
      "aniongap_last\n",
      "aspartateaminotransferase(ast)_last\n",
      "b-typenatriureticpeptide,pro(probnp)_last\n",
      "baseexcess(poc)_last\n",
      "baseexcess,venous(poc)_last\n",
      "basos_last\n",
      "basosabs_last\n",
      "benzodiazepinesscreen,urine,noconf._last\n",
      "bilirubindirect_last\n",
      "bilirubintotal_last\n",
      "bun_last\n",
      "bun/creatratio_last\n",
      "calcium_last\n",
      "calculatedco2(poc)_last\n",
      "calculatedhco3(poc)i_last\n",
      "calculatedo2saturation(poc)_last\n",
      "chloride_last\n",
      "cktotal_last\n",
      "co2_last\n",
      "co2calculated,venous(poc)_last\n",
      "co2,poc_last\n",
      "creatinine_last\n",
      "d-dimer_last\n",
      "egfr_last\n",
      "egfr(nonafricanamerican)_last\n",
      "egfr(aframer)_last\n",
      "eos_last\n",
      "eosinoabs_last\n",
      "epithelialcells_last\n",
      "globulin_last\n",
      "glucose_last\n",
      "glucose,meter_last\n",
      "hco3calculated,venous(poc)_last\n",
      "hematocrit_last\n",
      "hemoglobin_last\n",
      "immaturegrans(abs)_last\n",
      "immaturegranulocytes_last\n",
      "inr_last\n",
      "lactate,poc_last\n",
      "lipase_last\n",
      "lymphs_last\n",
      "magnesium_last\n",
      "mch_last\n",
      "mchc_last\n",
      "mcv_last\n",
      "monocytes_last\n",
      "monosabs_last\n",
      "mpv_last\n",
      "neutrophils_last\n",
      "nrbc_last\n",
      "nrbcabsolute_last\n",
      "o2satcalculated,venous(poc)_last\n",
      "pco2(poc)_last\n",
      "pco2,venous(poc)_last\n",
      "ph,venous(poc)_last\n",
      "phencyclidine(pcp)screen,urine,noconf._last\n",
      "phosphorus_last\n",
      "platelets_last\n",
      "po2(poc)_last\n",
      "po2,venous(poc)_last\n",
      "pocbun_last\n",
      "poccreatinine_last\n",
      "pocglucose_last\n",
      "pochematocrit_last\n",
      "pocionizedcalcium_last\n",
      "pocph_last\n",
      "pocpotassium_last\n",
      "pocsodium_last\n",
      "poctroponini._last\n",
      "potassium_last\n",
      "proteintotal_last\n",
      "prothrombintime_last\n",
      "ptt_last\n",
      "rbc_last\n",
      "rbc/hpf_last\n",
      "rdw_last\n",
      "sodium_last\n",
      "troponini(poc)_last\n",
      "troponint_last\n",
      "tsh_last\n",
      "wbc_last\n",
      "wbc/hpf_last\n",
      "absolutelymphocytecount_min\n",
      "acetonebld_min\n",
      "alanineaminotransferase(alt)_min\n",
      "albumin_min\n",
      "alkphos_min\n",
      "anc(absneutrophilcount)_min\n",
      "aniongap_min\n",
      "aspartateaminotransferase(ast)_min\n",
      "b-typenatriureticpeptide,pro(probnp)_min\n",
      "baseexcess(poc)_min\n",
      "baseexcess,venous(poc)_min\n",
      "basos_min\n",
      "basosabs_min\n",
      "benzodiazepinesscreen,urine,noconf._min\n",
      "bilirubindirect_min\n",
      "bilirubintotal_min\n",
      "bun_min\n",
      "bun/creatratio_min\n",
      "calcium_min\n",
      "calculatedco2(poc)_min\n",
      "calculatedhco3(poc)i_min\n",
      "calculatedo2saturation(poc)_min\n",
      "chloride_min\n",
      "cktotal_min\n",
      "co2_min\n",
      "co2calculated,venous(poc)_min\n",
      "co2,poc_min\n",
      "creatinine_min\n",
      "d-dimer_min\n",
      "egfr_min\n",
      "egfr(nonafricanamerican)_min\n",
      "egfr(aframer)_min\n",
      "eos_min\n",
      "eosinoabs_min\n",
      "epithelialcells_min\n",
      "globulin_min\n",
      "glucose_min\n",
      "glucose,meter_min\n",
      "hco3calculated,venous(poc)_min\n",
      "hematocrit_min\n",
      "hemoglobin_min\n",
      "immaturegrans(abs)_min\n",
      "immaturegranulocytes_min\n",
      "inr_min\n",
      "lactate,poc_min\n",
      "lipase_min\n",
      "lymphs_min\n",
      "magnesium_min\n",
      "mch_min\n",
      "mchc_min\n",
      "mcv_min\n",
      "monocytes_min\n",
      "monosabs_min\n",
      "mpv_min\n",
      "neutrophils_min\n",
      "nrbc_min\n",
      "nrbcabsolute_min\n",
      "o2satcalculated,venous(poc)_min\n",
      "pco2(poc)_min\n",
      "pco2,venous(poc)_min\n",
      "ph,venous(poc)_min\n",
      "phencyclidine(pcp)screen,urine,noconf._min\n",
      "phosphorus_min\n",
      "platelets_min\n",
      "po2(poc)_min\n",
      "po2,venous(poc)_min\n",
      "pocbun_min\n",
      "poccreatinine_min\n",
      "pocglucose_min\n",
      "pochematocrit_min\n",
      "pocionizedcalcium_min\n",
      "pocph_min\n",
      "pocpotassium_min\n",
      "pocsodium_min\n",
      "poctroponini._min\n",
      "potassium_min\n",
      "proteintotal_min\n",
      "prothrombintime_min\n",
      "ptt_min\n",
      "rbc_min\n",
      "rbc/hpf_min\n",
      "rdw_min\n",
      "sodium_min\n",
      "troponini(poc)_min\n",
      "troponint_min\n",
      "tsh_min\n",
      "wbc_min\n",
      "wbc/hpf_min\n",
      "absolutelymphocytecount_max\n",
      "acetonebld_max\n",
      "alanineaminotransferase(alt)_max\n",
      "albumin_max\n",
      "alkphos_max\n",
      "anc(absneutrophilcount)_max\n",
      "aniongap_max\n",
      "aspartateaminotransferase(ast)_max\n",
      "b-typenatriureticpeptide,pro(probnp)_max\n",
      "baseexcess(poc)_max\n",
      "baseexcess,venous(poc)_max\n",
      "basos_max\n",
      "basosabs_max\n",
      "benzodiazepinesscreen,urine,noconf._max\n",
      "bilirubindirect_max\n",
      "bilirubintotal_max\n",
      "bun_max\n",
      "bun/creatratio_max\n",
      "calcium_max\n",
      "calculatedco2(poc)_max\n",
      "calculatedhco3(poc)i_max\n",
      "calculatedo2saturation(poc)_max\n",
      "chloride_max\n",
      "cktotal_max\n",
      "co2_max\n",
      "co2calculated,venous(poc)_max\n",
      "co2,poc_max\n",
      "creatinine_max\n",
      "d-dimer_max\n",
      "egfr_max\n",
      "egfr(nonafricanamerican)_max\n",
      "egfr(aframer)_max\n",
      "eos_max\n",
      "eosinoabs_max\n",
      "epithelialcells_max\n",
      "globulin_max\n",
      "glucose_max\n",
      "glucose,meter_max\n",
      "hco3calculated,venous(poc)_max\n",
      "hematocrit_max\n",
      "hemoglobin_max\n",
      "immaturegrans(abs)_max\n",
      "immaturegranulocytes_max\n",
      "inr_max\n",
      "lactate,poc_max\n",
      "lipase_max\n",
      "lymphs_max\n",
      "magnesium_max\n",
      "mch_max\n",
      "mchc_max\n",
      "mcv_max\n",
      "monocytes_max\n",
      "monosabs_max\n",
      "mpv_max\n",
      "neutrophils_max\n",
      "nrbc_max\n",
      "nrbcabsolute_max\n",
      "o2satcalculated,venous(poc)_max\n",
      "pco2(poc)_max\n",
      "pco2,venous(poc)_max\n",
      "ph,venous(poc)_max\n",
      "phencyclidine(pcp)screen,urine,noconf._max\n",
      "phosphorus_max\n",
      "platelets_max\n",
      "po2(poc)_max\n",
      "po2,venous(poc)_max\n",
      "pocbun_max\n",
      "poccreatinine_max\n",
      "pocglucose_max\n",
      "pochematocrit_max\n",
      "pocionizedcalcium_max\n",
      "pocph_max\n",
      "pocpotassium_max\n",
      "pocsodium_max\n",
      "poctroponini._max\n",
      "potassium_max\n",
      "proteintotal_max\n",
      "prothrombintime_max\n",
      "ptt_max\n",
      "rbc_max\n",
      "rbc/hpf_max\n",
      "rdw_max\n",
      "sodium_max\n",
      "troponini(poc)_max\n",
      "troponint_max\n",
      "tsh_max\n",
      "wbc_max\n",
      "wbc/hpf_max\n",
      "absolutelymphocytecount_median\n",
      "acetonebld_median\n",
      "alanineaminotransferase(alt)_median\n",
      "albumin_median\n",
      "alkphos_median\n",
      "anc(absneutrophilcount)_median\n",
      "aniongap_median\n",
      "aspartateaminotransferase(ast)_median\n",
      "b-typenatriureticpeptide,pro(probnp)_median\n",
      "baseexcess(poc)_median\n",
      "baseexcess,venous(poc)_median\n",
      "basos_median\n",
      "basosabs_median\n",
      "benzodiazepinesscreen,urine,noconf._median\n",
      "bilirubindirect_median\n",
      "bilirubintotal_median\n",
      "bun_median\n",
      "bun/creatratio_median\n",
      "calcium_median\n",
      "calculatedco2(poc)_median\n",
      "calculatedhco3(poc)i_median\n",
      "calculatedo2saturation(poc)_median\n",
      "chloride_median\n",
      "cktotal_median\n",
      "co2_median\n",
      "co2calculated,venous(poc)_median\n",
      "co2,poc_median\n",
      "creatinine_median\n",
      "d-dimer_median\n",
      "egfr_median\n",
      "egfr(nonafricanamerican)_median\n",
      "egfr(aframer)_median\n",
      "eos_median\n",
      "eosinoabs_median\n",
      "epithelialcells_median\n",
      "globulin_median\n",
      "glucose_median\n",
      "glucose,meter_median\n",
      "hco3calculated,venous(poc)_median\n",
      "hematocrit_median\n",
      "hemoglobin_median\n",
      "immaturegrans(abs)_median\n",
      "immaturegranulocytes_median\n",
      "inr_median\n",
      "lactate,poc_median\n",
      "lipase_median\n",
      "lymphs_median\n",
      "magnesium_median\n",
      "mch_median\n",
      "mchc_median\n",
      "mcv_median\n",
      "monocytes_median\n",
      "monosabs_median\n",
      "mpv_median\n",
      "neutrophils_median\n",
      "nrbc_median\n",
      "nrbcabsolute_median\n",
      "o2satcalculated,venous(poc)_median\n",
      "pco2(poc)_median\n",
      "pco2,venous(poc)_median\n",
      "ph,venous(poc)_median\n",
      "phencyclidine(pcp)screen,urine,noconf._median\n",
      "phosphorus_median\n",
      "platelets_median\n",
      "po2(poc)_median\n",
      "po2,venous(poc)_median\n",
      "pocbun_median\n",
      "poccreatinine_median\n",
      "pocglucose_median\n",
      "pochematocrit_median\n",
      "pocionizedcalcium_median\n",
      "pocph_median\n",
      "pocpotassium_median\n",
      "pocsodium_median\n",
      "poctroponini._median\n",
      "potassium_median\n",
      "proteintotal_median\n",
      "prothrombintime_median\n",
      "ptt_median\n",
      "rbc_median\n",
      "rbc/hpf_median\n",
      "rdw_median\n",
      "sodium_median\n",
      "troponini(poc)_median\n",
      "troponint_median\n",
      "tsh_median\n",
      "wbc_median\n",
      "wbc/hpf_median\n",
      "bloodua_last\n",
      "glucoseua_last\n",
      "ketonesua_last\n",
      "leukocytesua_last\n",
      "nitriteua_last\n",
      "pregtestur_last\n",
      "proteinua_last\n",
      "bloodculture,routine_last\n",
      "urineculture,routine_last\n",
      "bloodua_npos\n",
      "glucoseua_npos\n",
      "ketonesua_npos\n",
      "leukocytesua_npos\n",
      "nitriteua_npos\n",
      "pregtestur_npos\n",
      "proteinua_npos\n",
      "bloodculture,routine_npos\n",
      "urineculture,routine_npos\n",
      "bloodua_count\n",
      "glucoseua_count\n",
      "ketonesua_count\n",
      "leukocytesua_count\n",
      "nitriteua_count\n",
      "pregtestur_count\n",
      "proteinua_count\n",
      "bloodculture,routine_count\n",
      "urineculture,routine_count\n",
      "triage_vital_hr\n",
      "triage_vital_sbp\n",
      "triage_vital_dbp\n",
      "triage_vital_rr\n",
      "triage_vital_o2\n",
      "triage_vital_o2_device\n",
      "triage_vital_temp\n",
      "pulse_last\n",
      "resp_last\n",
      "spo2_last\n",
      "temp_last\n",
      "sbp_last\n",
      "dbp_last\n",
      "o2_device_last\n",
      "pulse_min\n",
      "resp_min\n",
      "spo2_min\n",
      "temp_min\n",
      "sbp_min\n",
      "dbp_min\n",
      "o2_device_min\n",
      "pulse_max\n",
      "resp_max\n",
      "spo2_max\n",
      "temp_max\n",
      "sbp_max\n",
      "dbp_max\n",
      "o2_device_max\n",
      "pulse_median\n",
      "resp_median\n",
      "spo2_median\n",
      "temp_median\n",
      "sbp_median\n",
      "dbp_median\n",
      "o2_device_median\n",
      "cxr_count\n",
      "echo_count\n",
      "ekg_count\n",
      "headct_count\n",
      "mri_count\n",
      "otherct_count\n",
      "otherimg_count\n",
      "otherus_count\n",
      "otherxr_count\n",
      "meds_analgesicandantihistaminecombination\n",
      "meds_analgesics\n",
      "meds_anesthetics\n",
      "meds_anti-obesitydrugs\n",
      "meds_antiallergy\n",
      "meds_antiarthritics\n",
      "meds_antiasthmatics\n",
      "meds_antibiotics\n",
      "meds_anticoagulants\n",
      "meds_antidotes\n",
      "meds_antifungals\n",
      "meds_antihistamineanddecongestantcombination\n",
      "meds_antihistamines\n",
      "meds_antihyperglycemics\n",
      "meds_antiinfectives\n",
      "meds_antiinfectives/miscellaneous\n",
      "meds_antineoplastics\n",
      "meds_antiparkinsondrugs\n",
      "meds_antiplateletdrugs\n",
      "meds_antivirals\n",
      "meds_autonomicdrugs\n",
      "meds_biologicals\n",
      "meds_blood\n",
      "meds_cardiacdrugs\n",
      "meds_cardiovascular\n",
      "meds_cnsdrugs\n",
      "meds_colonystimulatingfactors\n",
      "meds_contraceptives\n",
      "meds_cough/coldpreparations\n",
      "meds_diagnostic\n",
      "meds_diuretics\n",
      "meds_eentpreps\n",
      "meds_elect/caloric/h2o\n",
      "meds_gastrointestinal\n",
      "meds_herbals\n",
      "meds_hormones\n",
      "meds_immunosuppressants\n",
      "meds_investigational\n",
      "meds_miscellaneousmedicalsupplies,devices,non-drug\n",
      "meds_musclerelaxants\n",
      "meds_pre-natalvitamins\n",
      "meds_psychotherapeuticdrugs\n",
      "meds_sedative/hypnotics\n",
      "meds_skinpreps\n",
      "meds_smokingdeterrents\n",
      "meds_thyroidpreps\n",
      "meds_unclassifieddrugproducts\n",
      "meds_vitamins\n",
      "n_surgeries\n",
      "cc_abdominalcramping\n",
      "cc_abdominaldistention\n",
      "cc_abdominalpain\n",
      "cc_abdominalpainpregnant\n",
      "cc_abnormallab\n",
      "cc_abscess\n",
      "cc_addictionproblem\n",
      "cc_agitation\n",
      "cc_alcoholintoxication\n",
      "cc_alcoholproblem\n",
      "cc_allergicreaction\n",
      "cc_alteredmentalstatus\n",
      "cc_animalbite\n",
      "cc_ankleinjury\n",
      "cc_anklepain\n",
      "cc_anxiety\n",
      "cc_arminjury\n",
      "cc_armpain\n",
      "cc_armswelling\n",
      "cc_assaultvictim\n",
      "cc_asthma\n",
      "cc_backpain\n",
      "cc_bleeding/bruising\n",
      "cc_blurredvision\n",
      "cc_bodyfluidexposure\n",
      "cc_breastpain\n",
      "cc_breathingdifficulty\n",
      "cc_breathingproblem\n",
      "cc_burn\n",
      "cc_cardiacarrest\n",
      "cc_cellulitis\n",
      "cc_chestpain\n",
      "cc_chesttightness\n",
      "cc_chills\n",
      "cc_coldlikesymptoms\n",
      "cc_confusion\n",
      "cc_conjunctivitis\n",
      "cc_constipation\n",
      "cc_cough\n",
      "cc_cyst\n",
      "cc_decreasedbloodsugar-symptomatic\n",
      "cc_dehydration\n",
      "cc_dentalpain\n",
      "cc_depression\n",
      "cc_detoxevaluation\n",
      "cc_diarrhea\n",
      "cc_dizziness\n",
      "cc_drug/alcoholassessment\n",
      "cc_drugproblem\n",
      "cc_dyspnea\n",
      "cc_dysuria\n",
      "cc_earpain\n",
      "cc_earproblem\n",
      "cc_edema\n",
      "cc_elbowpain\n",
      "cc_elevatedbloodsugar-nosymptoms\n",
      "cc_elevatedbloodsugar-symptomatic\n",
      "cc_emesis\n",
      "cc_epigastricpain\n",
      "cc_epistaxis\n",
      "cc_exposuretostd\n",
      "cc_extremitylaceration\n",
      "cc_extremityweakness\n",
      "cc_eyeinjury\n",
      "cc_eyepain\n",
      "cc_eyeproblem\n",
      "cc_eyeredness\n",
      "cc_facialinjury\n",
      "cc_faciallaceration\n",
      "cc_facialpain\n",
      "cc_facialswelling\n",
      "cc_fall\n",
      "cc_fall>65\n",
      "cc_fatigue\n",
      "cc_femaleguproblem\n",
      "cc_fever\n",
      "cc_fever-75yearsorolder\n",
      "cc_fever-9weeksto74years\n",
      "cc_feverimmunocompromised\n",
      "cc_fingerinjury\n",
      "cc_fingerpain\n",
      "cc_fingerswelling\n",
      "cc_flankpain\n",
      "cc_follow-upcellulitis\n",
      "cc_footinjury\n",
      "cc_footpain\n",
      "cc_footswelling\n",
      "cc_foreignbodyineye\n",
      "cc_fulltrauma\n",
      "cc_generalizedbodyaches\n",
      "cc_gibleeding\n",
      "cc_giproblem\n",
      "cc_groinpain\n",
      "cc_hallucinations\n",
      "cc_handinjury\n",
      "cc_handpain\n",
      "cc_headache\n",
      "cc_headache-newonsetornewsymptoms\n",
      "cc_headache-recurrentorknowndxmigraines\n",
      "cc_headachere-evaluation\n",
      "cc_headinjury\n",
      "cc_headlaceration\n",
      "cc_hematuria\n",
      "cc_hemoptysis\n",
      "cc_hippain\n",
      "cc_homicidal\n",
      "cc_hyperglycemia\n",
      "cc_hypertension\n",
      "cc_hypotension\n",
      "cc_influenza\n",
      "cc_ingestion\n",
      "cc_insectbite\n",
      "cc_irregularheartbeat\n",
      "cc_jawpain\n",
      "cc_jointswelling\n",
      "cc_kneeinjury\n",
      "cc_kneepain\n",
      "cc_laceration\n",
      "cc_leginjury\n",
      "cc_legpain\n",
      "cc_legswelling\n",
      "cc_lethargy\n",
      "cc_lossofconsciousness\n",
      "cc_maleguproblem\n",
      "cc_mass\n",
      "cc_medicalproblem\n",
      "cc_medicalscreening\n",
      "cc_medicationproblem\n",
      "cc_medicationrefill\n",
      "cc_migraine\n",
      "cc_modifiedtrauma\n",
      "cc_motorcyclecrash\n",
      "cc_motorvehiclecrash\n",
      "cc_multiplefalls\n",
      "cc_nasalcongestion\n",
      "cc_nausea\n",
      "cc_nearsyncope\n",
      "cc_neckpain\n",
      "cc_neurologicproblem\n",
      "cc_numbness\n",
      "cc_oralswelling\n",
      "cc_otalgia\n",
      "cc_other\n",
      "cc_overdose-accidental\n",
      "cc_overdose-intentional\n",
      "cc_pain\n",
      "cc_palpitations\n",
      "cc_panicattack\n",
      "cc_pelvicpain\n",
      "cc_poisoning\n",
      "cc_post-opproblem\n",
      "cc_psychiatricevaluation\n",
      "cc_psychoticsymptoms\n",
      "cc_rapidheartrate\n",
      "cc_rash\n",
      "cc_rectalbleeding\n",
      "cc_rectalpain\n",
      "cc_respiratorydistress\n",
      "cc_ribinjury\n",
      "cc_ribpain\n",
      "cc_seizure-newonset\n",
      "cc_seizure-priorhxof\n",
      "cc_seizures\n",
      "cc_shortnessofbreath\n",
      "cc_shoulderinjury\n",
      "cc_shoulderpain\n",
      "cc_sicklecellpain\n",
      "cc_sinusproblem\n",
      "cc_skinirritation\n",
      "cc_skinproblem\n",
      "cc_sorethroat\n",
      "cc_stdcheck\n",
      "cc_strokealert\n",
      "cc_suicidal\n",
      "cc_suture/stapleremoval\n",
      "cc_swallowedforeignbody\n",
      "cc_syncope\n",
      "cc_tachycardia\n",
      "cc_testiclepain\n",
      "cc_thumbinjury\n",
      "cc_tickremoval\n",
      "cc_toeinjury\n",
      "cc_toepain\n",
      "cc_trauma\n",
      "cc_unresponsive\n",
      "cc_uri\n",
      "cc_urinaryfrequency\n",
      "cc_urinaryretention\n",
      "cc_urinarytractinfection\n",
      "cc_vaginalbleeding\n",
      "cc_vaginaldischarge\n",
      "cc_vaginalpain\n",
      "cc_weakness\n",
      "cc_wheezing\n",
      "cc_withdrawal-alcohol\n",
      "cc_woundcheck\n",
      "cc_woundinfection\n",
      "cc_woundre-evaluation\n",
      "cc_wristinjury\n",
      "cc_wristpain\n"
     ]
    }
   ],
   "source": [
    "for col in df.columns:\n",
    "    print(col)"
   ]
  },
  {
   "cell_type": "markdown",
   "metadata": {},
   "source": [
    "Potentially relevant columns here are `gender`, `ethnicity`, `race`, `employstatus`, `insurance_status`, `disposition`. The majority of the columns are categorical results of whether a patient has a condition or not."
   ]
  },
  {
   "cell_type": "code",
   "execution_count": 6,
   "metadata": {},
   "outputs": [
    {
     "data": {
      "image/png": "[encoded data removed]",
      "text/plain": [
       "<Figure size 720x432 with 1 Axes>"
      ]
     },
     "metadata": {
      "needs_background": "light"
     },
     "output_type": "display_data"
    }
   ],
   "source": [
    "fig = plt.figure(figsize=(10, 6))\n",
    "sns.countplot(x='race', data=df)\n",
    "plt.title('Distribution of Races Within Dataset')\n",
    "plt.xticks(rotation=90)\n",
    "plt.show()"
   ]
  },
  {
   "cell_type": "code",
   "execution_count": 7,
   "metadata": {},
   "outputs": [
    {
     "data": {
      "text/plain": [
       "White or Caucasian                           299632\n",
       "Black or African American                    157884\n",
       "Other                                         89359\n",
       "Asian                                          5790\n",
       "Patient Refused                                5203\n",
       "Unknown                                        1702\n",
       "American Indian or Alaska Native                515\n",
       "Native Hawaiian or Other Pacific Islander       375\n",
       "Name: race, dtype: int64"
      ]
     },
     "execution_count": 7,
     "metadata": {},
     "output_type": "execute_result"
    }
   ],
   "source": [
    "df['race'].value_counts()"
   ]
  },
  {
   "cell_type": "markdown",
   "metadata": {},
   "source": [
    "# Insurance"
   ]
  },
  {
   "cell_type": "code",
   "execution_count": 8,
   "metadata": {},
   "outputs": [],
   "source": [
    "def pie_chart(insurance_status, data, data2):\n",
    "    color_palette = {\n",
    "        'White or Caucasian': 'blue',\n",
    "        'Black or African American': 'orange',\n",
    "        'Other': 'green',\n",
    "        'Asian': 'red',\n",
    "        'Patient Refused': 'purple',\n",
    "        'Unknown': 'brown',\n",
    "        'American Indian or Alaska Native': 'pink',\n",
    "        'Native Hawaiian or Other Pacific Islander': 'gray',\n",
    "        np.nan: 'yellow'\n",
    "    } # set the color palette so that all plots have the same colors for the same race\n",
    "    fig = plt.figure(figsize=(15, 15))\n",
    "    \n",
    "    def pie_subplot(data, row, col, which, title):\n",
    "        # get the subsection of the dataframe with that particular insurance status\n",
    "        data_with_insurance_status = data[data['insurance_status'] == insurance_status]\n",
    "        unique_races = data_with_insurance_status['race'].unique()\n",
    "\n",
    "        keys_data = []\n",
    "        for race in unique_races:\n",
    "            keys_data.append(\n",
    "                (\n",
    "                    race,\n",
    "                    data_with_insurance_status[data_with_insurance_status['race'] == race]['race']\n",
    "                        .count()\n",
    "                ) # append a particular race and the number of people with a particular insurance status\n",
    "            )\n",
    "\n",
    "        keys_data.sort(key=lambda x: x[1], reverse=True) # sort by the number of people\n",
    "\n",
    "        keys = [x[0] for x in keys_data]\n",
    "        values = [x[1] for x in keys_data]\n",
    "\n",
    "        colors = [color_palette[x] for x in keys]\n",
    "\n",
    "        # Plot a pie chart\n",
    "        plt.subplot(row, col, which)\n",
    "        plt.pie(values, colors=colors)\n",
    "        plt.legend(keys)\n",
    "        plt.title(title)\n",
    "\n",
    "    # data is a comprised of samples of 100 datapoints for each race because there aren't an\n",
    "    # equal amount of each race --> this is a way to show the real distribution\n",
    "    pie_subplot(data, 1, 2, 1, insurance_status)\n",
    "    # data2 is just the whole dataframe\n",
    "    pie_subplot(data2, 1, 2, 2, insurance_status + \" Real\")\n",
    "    \n",
    "    plt.show()"
   ]
  },
  {
   "cell_type": "code",
   "execution_count": 9,
   "metadata": {},
   "outputs": [],
   "source": [
    "def create_sampled_df(df):\n",
    "    sample1 = df[df['race'] == 'White or Caucasian'].sample(n=100)\n",
    "    sample2 = df[df['race'] == 'Black or African American'].sample(n=100)\n",
    "    sample3 = df[df['race'] == 'Other'].sample(n=100)\n",
    "    sample4 = df[df['race'] == 'Asian'].sample(n=100)\n",
    "    sample5 = df[df['race'] == 'Patient Refused'].sample(n=100)\n",
    "    sample6 = df[df['race'] == 'Unknown'].sample(n=100)\n",
    "    sample7 = df[df['race'] == 'American Indian or Alaska Native'].sample(n=100)\n",
    "    sample8 = df[df['race'] == 'Native Hawaiian or Other Pacific Islander'].sample(n=100)\n",
    "\n",
    "    # Put the samples together into one dataframe for use\n",
    "    plot_df = pd.concat([sample1, sample2, sample3, sample4, sample5, sample6, sample7, sample8])\n",
    "    return plot_df"
   ]
  },
  {
   "cell_type": "code",
   "execution_count": 10,
   "metadata": {},
   "outputs": [],
   "source": [
    "plot_df = create_sampled_df(df)"
   ]
  },
  {
   "cell_type": "markdown",
   "metadata": {},
   "source": [
    "## Visualizing Race Distributions of Insurance Types"
   ]
  },
  {
   "cell_type": "code",
   "execution_count": 11,
   "metadata": {},
   "outputs": [
    {
     "name": "stdout",
     "output_type": "stream",
     "text": [
      "['Other', 'Commercial', 'Medicare', 'Medicaid', 'Self pay']\n"
     ]
    }
   ],
   "source": [
    "print(list(df['insurance_status'].unique()))"
   ]
  },
  {
   "cell_type": "code",
   "execution_count": 12,
   "metadata": {},
   "outputs": [
    {
     "data": {
      "image/png": "[encoded data removed]",
      "text/plain": [
       "<Figure size 1080x1080 with 2 Axes>"
      ]
     },
     "metadata": {},
     "output_type": "display_data"
    }
   ],
   "source": [
    "pie_chart('Commercial', plot_df, df)"
   ]
  },
  {
   "cell_type": "code",
   "execution_count": 13,
   "metadata": {},
   "outputs": [
    {
     "data": {
      "image/png": "[encoded data removed]",
      "text/plain": [
       "<Figure size 1080x1080 with 2 Axes>"
      ]
     },
     "metadata": {},
     "output_type": "display_data"
    }
   ],
   "source": [
    "pie_chart('Medicaid', plot_df, df)"
   ]
  },
  {
   "cell_type": "code",
   "execution_count": 14,
   "metadata": {},
   "outputs": [
    {
     "data": {
      "image/png": "[encoded data removed]",
      "text/plain": [
       "<Figure size 1080x1080 with 2 Axes>"
      ]
     },
     "metadata": {},
     "output_type": "display_data"
    }
   ],
   "source": [
    "pie_chart('Medicare', plot_df, df)"
   ]
  },
  {
   "cell_type": "code",
   "execution_count": 15,
   "metadata": {},
   "outputs": [
    {
     "data": {
      "image/png": "[encoded data removed]",
      "text/plain": [
       "<Figure size 1080x1080 with 2 Axes>"
      ]
     },
     "metadata": {},
     "output_type": "display_data"
    }
   ],
   "source": [
    "pie_chart('Other', plot_df, df)"
   ]
  },
  {
   "cell_type": "code",
   "execution_count": 16,
   "metadata": {},
   "outputs": [
    {
     "data": {
      "image/png": "[encoded data removed]",
      "text/plain": [
       "<Figure size 1080x1080 with 2 Axes>"
      ]
     },
     "metadata": {},
     "output_type": "display_data"
    }
   ],
   "source": [
    "pie_chart('Self pay', plot_df, df)"
   ]
  },
  {
   "cell_type": "markdown",
   "metadata": {},
   "source": [
    "The only notable thing I noticed was that despite its smaller population, a greater percentage of black people have Medicaid."
   ]
  },
  {
   "cell_type": "markdown",
   "metadata": {},
   "source": [
    "# Employment Status"
   ]
  },
  {
   "cell_type": "code",
   "execution_count": 17,
   "metadata": {},
   "outputs": [
    {
     "name": "stdout",
     "output_type": "stream",
     "text": [
      "['Full Time', 'Not Employed', 'Retired', 'Disabled', 'Part Time', 'Self Employed', 'On Active Military Duty', 'Student - Full Time', 'Unknown', 'Student - Part Time']\n"
     ]
    }
   ],
   "source": [
    "print(list(df['employstatus'].unique()))"
   ]
  },
  {
   "cell_type": "code",
   "execution_count": 18,
   "metadata": {},
   "outputs": [
    {
     "data": {
      "image/png": "[encoded data removed]",
      "text/plain": [
       "<Figure size 1080x576 with 2 Axes>"
      ]
     },
     "metadata": {
      "needs_background": "light"
     },
     "output_type": "display_data"
    }
   ],
   "source": [
    "fig = plt.figure(figsize=(15, 8))\n",
    "plt.subplot(1, 2, 1)\n",
    "sns.countplot(x='employstatus', data=plot_df, hue='race')\n",
    "plt.xticks(rotation=90)\n",
    "plt.title('Employment Status Random Sample')\n",
    "plt.subplot(1, 2, 2)\n",
    "sns.countplot(x='employstatus', data=df, hue='race')\n",
    "plt.xticks(rotation=90)\n",
    "plt.title('Employment Status Full Dataset')\n",
    "plt.show()"
   ]
  },
  {
   "cell_type": "markdown",
   "metadata": {},
   "source": [
    "There are no blatant disparrities within the employment status."
   ]
  },
  {
   "cell_type": "markdown",
   "metadata": {},
   "source": [
    "# Disposition"
   ]
  },
  {
   "cell_type": "code",
   "execution_count": 19,
   "metadata": {},
   "outputs": [
    {
     "name": "stdout",
     "output_type": "stream",
     "text": [
      "['Discharge', 'Admit']\n"
     ]
    }
   ],
   "source": [
    "print(list(df['disposition'].unique()))"
   ]
  },
  {
   "cell_type": "code",
   "execution_count": 20,
   "metadata": {},
   "outputs": [
    {
     "name": "stdout",
     "output_type": "stream",
     "text": [
      "['No previous dispo', 'Discharge', 'Admit', 'Transfer to Another Facility', 'AMA', 'LWBS after Triage', 'Eloped', 'LWBS before Triage', 'Observation', 'Send to L&D']\n"
     ]
    }
   ],
   "source": [
    "print(list(df['previousdispo'].unique()))"
   ]
  },
  {
   "cell_type": "markdown",
   "metadata": {},
   "source": [
    "## Heatmap of Race & Disposition on Full Dataframe"
   ]
  },
  {
   "cell_type": "code",
   "execution_count": 21,
   "metadata": {},
   "outputs": [],
   "source": [
    "def p(contingency):\n",
    "    c, p_val, dof, expected = chi2_contingency(contingency)\n",
    "    return p_val"
   ]
  },
  {
   "cell_type": "code",
   "execution_count": 22,
   "metadata": {},
   "outputs": [
    {
     "data": {
      "text/html": [
       "<div>\n",
       "<style scoped>\n",
       "    .dataframe tbody tr th:only-of-type {\n",
       "        vertical-align: middle;\n",
       "    }\n",
       "\n",
       "    .dataframe tbody tr th {\n",
       "        vertical-align: top;\n",
       "    }\n",
       "\n",
       "    .dataframe thead th {\n",
       "        text-align: right;\n",
       "    }\n",
       "</style>\n",
       "<table border=\"1\" class=\"dataframe\">\n",
       "  <thead>\n",
       "    <tr style=\"text-align: right;\">\n",
       "      <th>previousdispo</th>\n",
       "      <th>AMA</th>\n",
       "      <th>Admit</th>\n",
       "      <th>Discharge</th>\n",
       "      <th>Eloped</th>\n",
       "      <th>LWBS after Triage</th>\n",
       "      <th>LWBS before Triage</th>\n",
       "      <th>No previous dispo</th>\n",
       "      <th>Observation</th>\n",
       "      <th>Send to L&amp;D</th>\n",
       "      <th>Transfer to Another Facility</th>\n",
       "    </tr>\n",
       "    <tr>\n",
       "      <th>race</th>\n",
       "      <th></th>\n",
       "      <th></th>\n",
       "      <th></th>\n",
       "      <th></th>\n",
       "      <th></th>\n",
       "      <th></th>\n",
       "      <th></th>\n",
       "      <th></th>\n",
       "      <th></th>\n",
       "      <th></th>\n",
       "    </tr>\n",
       "  </thead>\n",
       "  <tbody>\n",
       "    <tr>\n",
       "      <th>American Indian or Alaska Native</th>\n",
       "      <td>1</td>\n",
       "      <td>106</td>\n",
       "      <td>243</td>\n",
       "      <td>3</td>\n",
       "      <td>6</td>\n",
       "      <td>2</td>\n",
       "      <td>145</td>\n",
       "      <td>0</td>\n",
       "      <td>1</td>\n",
       "      <td>8</td>\n",
       "    </tr>\n",
       "    <tr>\n",
       "      <th>Asian</th>\n",
       "      <td>11</td>\n",
       "      <td>644</td>\n",
       "      <td>1805</td>\n",
       "      <td>2</td>\n",
       "      <td>28</td>\n",
       "      <td>0</td>\n",
       "      <td>3089</td>\n",
       "      <td>0</td>\n",
       "      <td>1</td>\n",
       "      <td>210</td>\n",
       "    </tr>\n",
       "    <tr>\n",
       "      <th>Black or African American</th>\n",
       "      <td>870</td>\n",
       "      <td>30079</td>\n",
       "      <td>90887</td>\n",
       "      <td>668</td>\n",
       "      <td>2134</td>\n",
       "      <td>405</td>\n",
       "      <td>31153</td>\n",
       "      <td>97</td>\n",
       "      <td>91</td>\n",
       "      <td>1500</td>\n",
       "    </tr>\n",
       "    <tr>\n",
       "      <th>Native Hawaiian or Other Pacific Islander</th>\n",
       "      <td>0</td>\n",
       "      <td>40</td>\n",
       "      <td>166</td>\n",
       "      <td>1</td>\n",
       "      <td>5</td>\n",
       "      <td>1</td>\n",
       "      <td>156</td>\n",
       "      <td>0</td>\n",
       "      <td>0</td>\n",
       "      <td>6</td>\n",
       "    </tr>\n",
       "    <tr>\n",
       "      <th>Other</th>\n",
       "      <td>372</td>\n",
       "      <td>13351</td>\n",
       "      <td>48078</td>\n",
       "      <td>283</td>\n",
       "      <td>1055</td>\n",
       "      <td>135</td>\n",
       "      <td>25344</td>\n",
       "      <td>49</td>\n",
       "      <td>63</td>\n",
       "      <td>629</td>\n",
       "    </tr>\n",
       "    <tr>\n",
       "      <th>Patient Refused</th>\n",
       "      <td>14</td>\n",
       "      <td>678</td>\n",
       "      <td>2395</td>\n",
       "      <td>7</td>\n",
       "      <td>37</td>\n",
       "      <td>10</td>\n",
       "      <td>2014</td>\n",
       "      <td>0</td>\n",
       "      <td>4</td>\n",
       "      <td>44</td>\n",
       "    </tr>\n",
       "    <tr>\n",
       "      <th>Unknown</th>\n",
       "      <td>8</td>\n",
       "      <td>170</td>\n",
       "      <td>580</td>\n",
       "      <td>2</td>\n",
       "      <td>11</td>\n",
       "      <td>3</td>\n",
       "      <td>911</td>\n",
       "      <td>0</td>\n",
       "      <td>0</td>\n",
       "      <td>17</td>\n",
       "    </tr>\n",
       "    <tr>\n",
       "      <th>White or Caucasian</th>\n",
       "      <td>1252</td>\n",
       "      <td>72808</td>\n",
       "      <td>118076</td>\n",
       "      <td>586</td>\n",
       "      <td>1495</td>\n",
       "      <td>241</td>\n",
       "      <td>101186</td>\n",
       "      <td>180</td>\n",
       "      <td>48</td>\n",
       "      <td>3760</td>\n",
       "    </tr>\n",
       "  </tbody>\n",
       "</table>\n",
       "</div>"
      ],
      "text/plain": [
       "previousdispo                               AMA  Admit  Discharge  Eloped  \\\n",
       "race                                                                        \n",
       "American Indian or Alaska Native              1    106        243       3   \n",
       "Asian                                        11    644       1805       2   \n",
       "Black or African American                   870  30079      90887     668   \n",
       "Native Hawaiian or Other Pacific Islander     0     40        166       1   \n",
       "Other                                       372  13351      48078     283   \n",
       "Patient Refused                              14    678       2395       7   \n",
       "Unknown                                       8    170        580       2   \n",
       "White or Caucasian                         1252  72808     118076     586   \n",
       "\n",
       "previousdispo                              LWBS after Triage  \\\n",
       "race                                                           \n",
       "American Indian or Alaska Native                           6   \n",
       "Asian                                                     28   \n",
       "Black or African American                               2134   \n",
       "Native Hawaiian or Other Pacific Islander                  5   \n",
       "Other                                                   1055   \n",
       "Patient Refused                                           37   \n",
       "Unknown                                                   11   \n",
       "White or Caucasian                                      1495   \n",
       "\n",
       "previousdispo                              LWBS before Triage  \\\n",
       "race                                                            \n",
       "American Indian or Alaska Native                            2   \n",
       "Asian                                                       0   \n",
       "Black or African American                                 405   \n",
       "Native Hawaiian or Other Pacific Islander                   1   \n",
       "Other                                                     135   \n",
       "Patient Refused                                            10   \n",
       "Unknown                                                     3   \n",
       "White or Caucasian                                        241   \n",
       "\n",
       "previousdispo                              No previous dispo  Observation  \\\n",
       "race                                                                        \n",
       "American Indian or Alaska Native                         145            0   \n",
       "Asian                                                   3089            0   \n",
       "Black or African American                              31153           97   \n",
       "Native Hawaiian or Other Pacific Islander                156            0   \n",
       "Other                                                  25344           49   \n",
       "Patient Refused                                         2014            0   \n",
       "Unknown                                                  911            0   \n",
       "White or Caucasian                                    101186          180   \n",
       "\n",
       "previousdispo                              Send to L&D  \\\n",
       "race                                                     \n",
       "American Indian or Alaska Native                     1   \n",
       "Asian                                                1   \n",
       "Black or African American                           91   \n",
       "Native Hawaiian or Other Pacific Islander            0   \n",
       "Other                                               63   \n",
       "Patient Refused                                      4   \n",
       "Unknown                                              0   \n",
       "White or Caucasian                                  48   \n",
       "\n",
       "previousdispo                              Transfer to Another Facility  \n",
       "race                                                                     \n",
       "American Indian or Alaska Native                                      8  \n",
       "Asian                                                               210  \n",
       "Black or African American                                          1500  \n",
       "Native Hawaiian or Other Pacific Islander                             6  \n",
       "Other                                                               629  \n",
       "Patient Refused                                                      44  \n",
       "Unknown                                                              17  \n",
       "White or Caucasian                                                 3760  "
      ]
     },
     "execution_count": 22,
     "metadata": {},
     "output_type": "execute_result"
    }
   ],
   "source": [
    "contingency = pd.crosstab(df['race'], df['previousdispo'])\n",
    "contingency"
   ]
  },
  {
   "cell_type": "code",
   "execution_count": 23,
   "metadata": {},
   "outputs": [],
   "source": [
    "# contingency_pct = pd.crosstab(df['race'], df['previousdispo'], normalize='index')\n",
    "# contingency_pct"
   ]
  },
  {
   "cell_type": "code",
   "execution_count": 24,
   "metadata": {},
   "outputs": [
    {
     "data": {
      "text/plain": [
       "<AxesSubplot:xlabel='previousdispo', ylabel='race'>"
      ]
     },
     "execution_count": 24,
     "metadata": {},
     "output_type": "execute_result"
    },
    {
     "data": {
      "image/png": "[encoded data removed]",
      "text/plain": [
       "<Figure size 864x576 with 2 Axes>"
      ]
     },
     "metadata": {
      "needs_background": "light"
     },
     "output_type": "display_data"
    }
   ],
   "source": [
    "plt.figure(figsize=(12, 8))\n",
    "sns.heatmap(contingency, annot=True, cmap='YlGnBu')"
   ]
  },
  {
   "cell_type": "markdown",
   "metadata": {},
   "source": [
    "* L&D -> Labor And Delivey\n",
    "* LWBS -> Left Without Being Seen By Physician\n",
    "* AMA -> Against Medical Service ??\n",
    "* Eloped -> Eloped During Treatment"
   ]
  },
  {
   "cell_type": "code",
   "execution_count": 25,
   "metadata": {},
   "outputs": [
    {
     "data": {
      "text/plain": [
       "0.0"
      ]
     },
     "execution_count": 25,
     "metadata": {},
     "output_type": "execute_result"
    }
   ],
   "source": [
    "p(contingency)\n",
    "#surface level stat analysis shows a correlation btw ethnicity and disposition within the hospital"
   ]
  },
  {
   "cell_type": "markdown",
   "metadata": {},
   "source": [
    "## Heatmap of Race & Disposition on Sampled Dataframe"
   ]
  },
  {
   "cell_type": "code",
   "execution_count": 26,
   "metadata": {},
   "outputs": [
    {
     "data": {
      "text/html": [
       "<div>\n",
       "<style scoped>\n",
       "    .dataframe tbody tr th:only-of-type {\n",
       "        vertical-align: middle;\n",
       "    }\n",
       "\n",
       "    .dataframe tbody tr th {\n",
       "        vertical-align: top;\n",
       "    }\n",
       "\n",
       "    .dataframe thead th {\n",
       "        text-align: right;\n",
       "    }\n",
       "</style>\n",
       "<table border=\"1\" class=\"dataframe\">\n",
       "  <thead>\n",
       "    <tr style=\"text-align: right;\">\n",
       "      <th>previousdispo</th>\n",
       "      <th>AMA</th>\n",
       "      <th>Admit</th>\n",
       "      <th>Discharge</th>\n",
       "      <th>Eloped</th>\n",
       "      <th>LWBS after Triage</th>\n",
       "      <th>LWBS before Triage</th>\n",
       "      <th>No previous dispo</th>\n",
       "      <th>Transfer to Another Facility</th>\n",
       "    </tr>\n",
       "    <tr>\n",
       "      <th>race</th>\n",
       "      <th></th>\n",
       "      <th></th>\n",
       "      <th></th>\n",
       "      <th></th>\n",
       "      <th></th>\n",
       "      <th></th>\n",
       "      <th></th>\n",
       "      <th></th>\n",
       "    </tr>\n",
       "  </thead>\n",
       "  <tbody>\n",
       "    <tr>\n",
       "      <th>American Indian or Alaska Native</th>\n",
       "      <td>0</td>\n",
       "      <td>24</td>\n",
       "      <td>44</td>\n",
       "      <td>0</td>\n",
       "      <td>4</td>\n",
       "      <td>0</td>\n",
       "      <td>26</td>\n",
       "      <td>2</td>\n",
       "    </tr>\n",
       "    <tr>\n",
       "      <th>Asian</th>\n",
       "      <td>1</td>\n",
       "      <td>12</td>\n",
       "      <td>34</td>\n",
       "      <td>0</td>\n",
       "      <td>0</td>\n",
       "      <td>0</td>\n",
       "      <td>51</td>\n",
       "      <td>2</td>\n",
       "    </tr>\n",
       "    <tr>\n",
       "      <th>Black or African American</th>\n",
       "      <td>2</td>\n",
       "      <td>20</td>\n",
       "      <td>57</td>\n",
       "      <td>0</td>\n",
       "      <td>1</td>\n",
       "      <td>1</td>\n",
       "      <td>19</td>\n",
       "      <td>0</td>\n",
       "    </tr>\n",
       "    <tr>\n",
       "      <th>Native Hawaiian or Other Pacific Islander</th>\n",
       "      <td>0</td>\n",
       "      <td>9</td>\n",
       "      <td>44</td>\n",
       "      <td>0</td>\n",
       "      <td>2</td>\n",
       "      <td>0</td>\n",
       "      <td>44</td>\n",
       "      <td>1</td>\n",
       "    </tr>\n",
       "    <tr>\n",
       "      <th>Other</th>\n",
       "      <td>0</td>\n",
       "      <td>16</td>\n",
       "      <td>51</td>\n",
       "      <td>2</td>\n",
       "      <td>3</td>\n",
       "      <td>0</td>\n",
       "      <td>28</td>\n",
       "      <td>0</td>\n",
       "    </tr>\n",
       "    <tr>\n",
       "      <th>Patient Refused</th>\n",
       "      <td>1</td>\n",
       "      <td>14</td>\n",
       "      <td>41</td>\n",
       "      <td>0</td>\n",
       "      <td>0</td>\n",
       "      <td>0</td>\n",
       "      <td>43</td>\n",
       "      <td>1</td>\n",
       "    </tr>\n",
       "    <tr>\n",
       "      <th>Unknown</th>\n",
       "      <td>0</td>\n",
       "      <td>10</td>\n",
       "      <td>32</td>\n",
       "      <td>0</td>\n",
       "      <td>4</td>\n",
       "      <td>1</td>\n",
       "      <td>52</td>\n",
       "      <td>1</td>\n",
       "    </tr>\n",
       "    <tr>\n",
       "      <th>White or Caucasian</th>\n",
       "      <td>1</td>\n",
       "      <td>27</td>\n",
       "      <td>38</td>\n",
       "      <td>1</td>\n",
       "      <td>0</td>\n",
       "      <td>0</td>\n",
       "      <td>32</td>\n",
       "      <td>1</td>\n",
       "    </tr>\n",
       "  </tbody>\n",
       "</table>\n",
       "</div>"
      ],
      "text/plain": [
       "previousdispo                              AMA  Admit  Discharge  Eloped  \\\n",
       "race                                                                       \n",
       "American Indian or Alaska Native             0     24         44       0   \n",
       "Asian                                        1     12         34       0   \n",
       "Black or African American                    2     20         57       0   \n",
       "Native Hawaiian or Other Pacific Islander    0      9         44       0   \n",
       "Other                                        0     16         51       2   \n",
       "Patient Refused                              1     14         41       0   \n",
       "Unknown                                      0     10         32       0   \n",
       "White or Caucasian                           1     27         38       1   \n",
       "\n",
       "previousdispo                              LWBS after Triage  \\\n",
       "race                                                           \n",
       "American Indian or Alaska Native                           4   \n",
       "Asian                                                      0   \n",
       "Black or African American                                  1   \n",
       "Native Hawaiian or Other Pacific Islander                  2   \n",
       "Other                                                      3   \n",
       "Patient Refused                                            0   \n",
       "Unknown                                                    4   \n",
       "White or Caucasian                                         0   \n",
       "\n",
       "previousdispo                              LWBS before Triage  \\\n",
       "race                                                            \n",
       "American Indian or Alaska Native                            0   \n",
       "Asian                                                       0   \n",
       "Black or African American                                   1   \n",
       "Native Hawaiian or Other Pacific Islander                   0   \n",
       "Other                                                       0   \n",
       "Patient Refused                                             0   \n",
       "Unknown                                                     1   \n",
       "White or Caucasian                                          0   \n",
       "\n",
       "previousdispo                              No previous dispo  \\\n",
       "race                                                           \n",
       "American Indian or Alaska Native                          26   \n",
       "Asian                                                     51   \n",
       "Black or African American                                 19   \n",
       "Native Hawaiian or Other Pacific Islander                 44   \n",
       "Other                                                     28   \n",
       "Patient Refused                                           43   \n",
       "Unknown                                                   52   \n",
       "White or Caucasian                                        32   \n",
       "\n",
       "previousdispo                              Transfer to Another Facility  \n",
       "race                                                                     \n",
       "American Indian or Alaska Native                                      2  \n",
       "Asian                                                                 2  \n",
       "Black or African American                                             0  \n",
       "Native Hawaiian or Other Pacific Islander                             1  \n",
       "Other                                                                 0  \n",
       "Patient Refused                                                       1  \n",
       "Unknown                                                               1  \n",
       "White or Caucasian                                                    1  "
      ]
     },
     "execution_count": 26,
     "metadata": {},
     "output_type": "execute_result"
    }
   ],
   "source": [
    "contingency = pd.crosstab(plot_df['race'], plot_df['previousdispo'])\n",
    "contingency"
   ]
  },
  {
   "cell_type": "code",
   "execution_count": 27,
   "metadata": {},
   "outputs": [
    {
     "data": {
      "image/png": "[encoded data removed]",
      "text/plain": [
       "<Figure size 864x576 with 2 Axes>"
      ]
     },
     "metadata": {
      "needs_background": "light"
     },
     "output_type": "display_data"
    }
   ],
   "source": [
    "plt.figure(figsize=(12, 8))\n",
    "sns.heatmap(contingency, annot=True, cmap=\"YlGnBu\")\n",
    "plt.show()"
   ]
  },
  {
   "cell_type": "code",
   "execution_count": 28,
   "metadata": {},
   "outputs": [
    {
     "data": {
      "text/plain": [
       "4.715988533760294e-05"
      ]
     },
     "execution_count": 28,
     "metadata": {},
     "output_type": "execute_result"
    }
   ],
   "source": [
    "p(contingency)\n",
    "#surface level stat analysis shows a correlation btw ethnicity and disposition within the hospital"
   ]
  },
  {
   "cell_type": "markdown",
   "metadata": {},
   "source": [
    "## Heatmap of Gender & Disposition"
   ]
  },
  {
   "cell_type": "code",
   "execution_count": 29,
   "metadata": {},
   "outputs": [
    {
     "data": {
      "text/plain": [
       "<AxesSubplot:xlabel='previousdispo', ylabel='gender'>"
      ]
     },
     "execution_count": 29,
     "metadata": {},
     "output_type": "execute_result"
    },
    {
     "data": {
      "image/png": "[encoded data removed]",
      "text/plain": [
       "<Figure size 864x576 with 2 Axes>"
      ]
     },
     "metadata": {
      "needs_background": "light"
     },
     "output_type": "display_data"
    }
   ],
   "source": [
    "contingency = pd.crosstab(df['gender'], df['previousdispo'])\n",
    "plt.figure(figsize=(12, 8))\n",
    "sns.heatmap(contingency, annot=True, cmap=\"YlGnBu\")"
   ]
  },
  {
   "cell_type": "code",
   "execution_count": 30,
   "metadata": {},
   "outputs": [
    {
     "data": {
      "text/plain": [
       "5.440742225607243e-192"
      ]
     },
     "execution_count": 30,
     "metadata": {},
     "output_type": "execute_result"
    }
   ],
   "source": [
    "p(contingency)"
   ]
  },
  {
   "cell_type": "markdown",
   "metadata": {},
   "source": [
    "## Heatmap of Age & Disposition"
   ]
  },
  {
   "cell_type": "code",
   "execution_count": 31,
   "metadata": {},
   "outputs": [
    {
     "data": {
      "text/plain": [
       "(108, 18)"
      ]
     },
     "execution_count": 31,
     "metadata": {},
     "output_type": "execute_result"
    }
   ],
   "source": [
    "(df.age.max(), df.age.min())"
   ]
  },
  {
   "cell_type": "code",
   "execution_count": 32,
   "metadata": {},
   "outputs": [
    {
     "data": {
      "text/plain": [
       "0         (30-40]\n",
       "1         (60-70]\n",
       "2         (60-70]\n",
       "3         (60-70]\n",
       "4         (80-90]\n",
       "           ...   \n",
       "560481    (40-50]\n",
       "560482    (40-50]\n",
       "560483    (40-50]\n",
       "560484    (40-50]\n",
       "560485    (40-50]\n",
       "Name: age_groups, Length: 560486, dtype: category\n",
       "Categories (11, object): ['(0-10]' < '(10-20]' < '(20-30]' < '(30-40]' ... '(70-80]' < '(80-90]' < '(90-100]' < '(100-110]']"
      ]
     },
     "execution_count": 32,
     "metadata": {},
     "output_type": "execute_result"
    }
   ],
   "source": [
    "bins = [0, 10, 20, 30, 40, 50, 60, 70, 80, 90, 100, 110]\n",
    "labels = ['(0-10]', '(10-20]', '(20-30]', '(30-40]',\n",
    "          '(40-50]', '(50-60]', '(60-70]', '(70-80]', '(80-90]', '(90-100]', '(100-110]']\n",
    "\n",
    "df['age_groups'] = pd.cut(x=df['age'], bins=bins, labels=labels)\n",
    "df['age_groups']"
   ]
  },
  {
   "cell_type": "code",
   "execution_count": 33,
   "metadata": {},
   "outputs": [
    {
     "data": {
      "text/plain": [
       "<AxesSubplot:xlabel='previousdispo', ylabel='age_groups'>"
      ]
     },
     "execution_count": 33,
     "metadata": {},
     "output_type": "execute_result"
    },
    {
     "data": {
      "image/png": "[encoded data removed]",
      "text/plain": [
       "<Figure size 864x576 with 2 Axes>"
      ]
     },
     "metadata": {
      "needs_background": "light"
     },
     "output_type": "display_data"
    }
   ],
   "source": [
    "contingency = pd.crosstab(df['age_groups'], df['previousdispo'])\n",
    "plt.figure(figsize=(12, 8))\n",
    "sns.heatmap(contingency, annot=True, cmap=\"YlGnBu\")"
   ]
  },
  {
   "cell_type": "code",
   "execution_count": 34,
   "metadata": {},
   "outputs": [
    {
     "data": {
      "text/plain": [
       "0.0"
      ]
     },
     "execution_count": 34,
     "metadata": {},
     "output_type": "execute_result"
    }
   ],
   "source": [
    "p(contingency)"
   ]
  },
  {
   "cell_type": "markdown",
   "metadata": {},
   "source": [
    "## Heatmap of Race & Arrival Mode"
   ]
  },
  {
   "cell_type": "code",
   "execution_count": 35,
   "metadata": {},
   "outputs": [
    {
     "data": {
      "text/plain": [
       "<AxesSubplot:xlabel='arrivalmode', ylabel='race'>"
      ]
     },
     "execution_count": 35,
     "metadata": {},
     "output_type": "execute_result"
    },
    {
     "data": {
      "image/png": "[encoded data removed]",
      "text/plain": [
       "<Figure size 864x576 with 2 Axes>"
      ]
     },
     "metadata": {
      "needs_background": "light"
     },
     "output_type": "display_data"
    }
   ],
   "source": [
    "contingency = pd.crosstab(df['race'], df['arrivalmode'])\n",
    "plt.figure(figsize=(12, 8))\n",
    "sns.heatmap(contingency, annot=True, cmap=\"YlGnBu\")"
   ]
  },
  {
   "cell_type": "code",
   "execution_count": 36,
   "metadata": {},
   "outputs": [
    {
     "data": {
      "text/plain": [
       "0.0"
      ]
     },
     "execution_count": 36,
     "metadata": {},
     "output_type": "execute_result"
    }
   ],
   "source": [
    "p(contingency)"
   ]
  },
  {
   "cell_type": "markdown",
   "metadata": {},
   "source": [
    "# Condensing Dataset"
   ]
  },
  {
   "cell_type": "markdown",
   "metadata": {},
   "source": [
    "Condense the large dataframe into another with only the necessary columns."
   ]
  },
  {
   "cell_type": "markdown",
   "metadata": {},
   "source": [
    "The columns of the dataframe have a significant member of **null** values; however, we still have enough data, that removing the rows with any null values will leave us with plenty of data. Therefore, instead of letting the nulls propogate to more refined versions of the dataset, we can remove them right here."
   ]
  },
  {
   "cell_type": "markdown",
   "metadata": {},
   "source": [
    "First we create a smaller dataframe with only the columns we care about, in order to condense the data and speed up operation times."
   ]
  },
  {
   "cell_type": "code",
   "execution_count": 37,
   "metadata": {},
   "outputs": [],
   "source": [
    "columns = ['esi',\n",
    "           'age',\n",
    "           'gender',\n",
    "           'ethnicity',\n",
    "           'race',\n",
    "           'lang',\n",
    "           'religion',\n",
    "           'maritalstatus',\n",
    "           'employstatus',\n",
    "           'insurance_status',\n",
    "           'disposition',\n",
    "           'arrivalmode',\n",
    "           'previousdispo']\n",
    "\n",
    "data = df.copy()[columns]"
   ]
  },
  {
   "cell_type": "code",
   "execution_count": 38,
   "metadata": {},
   "outputs": [
    {
     "data": {
      "text/plain": [
       "(560486, 13)"
      ]
     },
     "execution_count": 38,
     "metadata": {},
     "output_type": "execute_result"
    }
   ],
   "source": [
    "data.shape"
   ]
  },
  {
   "cell_type": "code",
   "execution_count": 39,
   "metadata": {},
   "outputs": [
    {
     "name": "stdout",
     "output_type": "stream",
     "text": [
      "Done condensing: esi\n",
      "Done condensing: age\n",
      "Done condensing: gender\n",
      "Done condensing: ethnicity\n",
      "Done condensing: race\n",
      "Done condensing: lang\n",
      "Done condensing: religion\n",
      "Done condensing: maritalstatus\n",
      "Done condensing: employstatus\n",
      "Done condensing: insurance_status\n",
      "Done condensing: disposition\n",
      "Done condensing: arrivalmode\n",
      "Done condensing: previousdispo\n"
     ]
    }
   ],
   "source": [
    "# Remove the rows with missing values for every column\n",
    "\n",
    "cols_in_dataframe = list(data.columns)\n",
    "\n",
    "for col in cols_in_dataframe:\n",
    "    rows_to_remove = []\n",
    "    nulled_col = list(data[col].isnull())\n",
    "    for i in range(len(nulled_col)):\n",
    "        if nulled_col[i] == True:\n",
    "            rows_to_remove.append(i)\n",
    "    rows_to_remove.sort(reverse=True)\n",
    "    \n",
    "    data.drop(rows_to_remove, inplace=True)\n",
    "    data.reset_index(drop=True, inplace=True)\n",
    "    \n",
    "    print('Done condensing:', col)"
   ]
  },
  {
   "cell_type": "code",
   "execution_count": 40,
   "metadata": {},
   "outputs": [
    {
     "data": {
      "text/plain": [
       "(537194, 13)"
      ]
     },
     "execution_count": 40,
     "metadata": {},
     "output_type": "execute_result"
    }
   ],
   "source": [
    "data.shape"
   ]
  },
  {
   "cell_type": "markdown",
   "metadata": {},
   "source": [
    "All the rows with a **null** value in them are now removed from the dataframe."
   ]
  },
  {
   "cell_type": "markdown",
   "metadata": {},
   "source": [
    "# Creating An Averaged Table"
   ]
  },
  {
   "cell_type": "code",
   "execution_count": 41,
   "metadata": {},
   "outputs": [],
   "source": [
    "# ( number of samples, contingency variable 1, contingency variable 2, dataframe )\n",
    "def create_samples(num_samples, contv1, contv2, df):\n",
    "    samples = []\n",
    "    for i in range(num_samples):\n",
    "        plot_df = create_sampled_df(df)\n",
    "        contingency = pd.crosstab(plot_df[contv1], plot_df[contv2])\n",
    "\n",
    "        # find the columns that were not in the contingency table\n",
    "        # all the columns that are left over\n",
    "        left_over = list(set(df[contv2].unique()) - set(contingency.columns))\n",
    "        for col in left_over:\n",
    "            contingency[col] = [0 for _ in list(contingency.index)]\n",
    "\n",
    "        samples.append(contingency)\n",
    "    return samples\n",
    "\n",
    "\n",
    "def create_average_contingency_table(samples):\n",
    "    samples_len = len(samples)\n",
    "    main_df = pd.DataFrame()\n",
    "\n",
    "    shapes = [x.shape for x in samples]\n",
    "    example_sample = samples[0]\n",
    "\n",
    "    for col in example_sample:\n",
    "        values = []\n",
    "        for sample in samples:\n",
    "            values.append(np.array(sample[col]))\n",
    "        values = np.array(values)\n",
    "        average_values = np.mean(values, axis=0)\n",
    "        main_df[col] = average_values\n",
    "\n",
    "    main_df = main_df.set_index(pd.Index(example_sample.index))\n",
    "    return main_df"
   ]
  },
  {
   "cell_type": "code",
   "execution_count": 42,
   "metadata": {},
   "outputs": [],
   "source": [
    "samples = create_samples(100, 'race', 'previousdispo', data)"
   ]
  },
  {
   "cell_type": "code",
   "execution_count": 43,
   "metadata": {},
   "outputs": [
    {
     "data": {
      "text/html": [
       "<div>\n",
       "<style scoped>\n",
       "    .dataframe tbody tr th:only-of-type {\n",
       "        vertical-align: middle;\n",
       "    }\n",
       "\n",
       "    .dataframe tbody tr th {\n",
       "        vertical-align: top;\n",
       "    }\n",
       "\n",
       "    .dataframe thead th {\n",
       "        text-align: right;\n",
       "    }\n",
       "</style>\n",
       "<table border=\"1\" class=\"dataframe\">\n",
       "  <thead>\n",
       "    <tr style=\"text-align: right;\">\n",
       "      <th></th>\n",
       "      <th>AMA</th>\n",
       "      <th>Admit</th>\n",
       "      <th>Discharge</th>\n",
       "      <th>Eloped</th>\n",
       "      <th>LWBS after Triage</th>\n",
       "      <th>No previous dispo</th>\n",
       "      <th>Transfer to Another Facility</th>\n",
       "      <th>Send to L&amp;D</th>\n",
       "      <th>Observation</th>\n",
       "      <th>LWBS before Triage</th>\n",
       "    </tr>\n",
       "    <tr>\n",
       "      <th>race</th>\n",
       "      <th></th>\n",
       "      <th></th>\n",
       "      <th></th>\n",
       "      <th></th>\n",
       "      <th></th>\n",
       "      <th></th>\n",
       "      <th></th>\n",
       "      <th></th>\n",
       "      <th></th>\n",
       "      <th></th>\n",
       "    </tr>\n",
       "  </thead>\n",
       "  <tbody>\n",
       "    <tr>\n",
       "      <th>American Indian or Alaska Native</th>\n",
       "      <td>0.24</td>\n",
       "      <td>20.80</td>\n",
       "      <td>47.30</td>\n",
       "      <td>0.65</td>\n",
       "      <td>1.24</td>\n",
       "      <td>27.93</td>\n",
       "      <td>1.23</td>\n",
       "      <td>0.21</td>\n",
       "      <td>0.00</td>\n",
       "      <td>0.40</td>\n",
       "    </tr>\n",
       "    <tr>\n",
       "      <th>Asian</th>\n",
       "      <td>0.19</td>\n",
       "      <td>13.19</td>\n",
       "      <td>26.91</td>\n",
       "      <td>0.04</td>\n",
       "      <td>0.49</td>\n",
       "      <td>54.98</td>\n",
       "      <td>4.19</td>\n",
       "      <td>0.01</td>\n",
       "      <td>0.00</td>\n",
       "      <td>0.00</td>\n",
       "    </tr>\n",
       "    <tr>\n",
       "      <th>Black or African American</th>\n",
       "      <td>0.56</td>\n",
       "      <td>19.72</td>\n",
       "      <td>57.07</td>\n",
       "      <td>0.47</td>\n",
       "      <td>1.38</td>\n",
       "      <td>19.39</td>\n",
       "      <td>0.94</td>\n",
       "      <td>0.04</td>\n",
       "      <td>0.08</td>\n",
       "      <td>0.35</td>\n",
       "    </tr>\n",
       "    <tr>\n",
       "      <th>Native Hawaiian or Other Pacific Islander</th>\n",
       "      <td>0.00</td>\n",
       "      <td>11.01</td>\n",
       "      <td>43.74</td>\n",
       "      <td>0.29</td>\n",
       "      <td>1.28</td>\n",
       "      <td>41.76</td>\n",
       "      <td>1.62</td>\n",
       "      <td>0.00</td>\n",
       "      <td>0.00</td>\n",
       "      <td>0.30</td>\n",
       "    </tr>\n",
       "    <tr>\n",
       "      <th>Other</th>\n",
       "      <td>0.47</td>\n",
       "      <td>15.78</td>\n",
       "      <td>53.02</td>\n",
       "      <td>0.47</td>\n",
       "      <td>1.20</td>\n",
       "      <td>27.97</td>\n",
       "      <td>0.72</td>\n",
       "      <td>0.09</td>\n",
       "      <td>0.04</td>\n",
       "      <td>0.24</td>\n",
       "    </tr>\n",
       "    <tr>\n",
       "      <th>Patient Refused</th>\n",
       "      <td>0.27</td>\n",
       "      <td>13.36</td>\n",
       "      <td>45.63</td>\n",
       "      <td>0.13</td>\n",
       "      <td>0.68</td>\n",
       "      <td>38.88</td>\n",
       "      <td>0.82</td>\n",
       "      <td>0.09</td>\n",
       "      <td>0.00</td>\n",
       "      <td>0.14</td>\n",
       "    </tr>\n",
       "    <tr>\n",
       "      <th>Unknown</th>\n",
       "      <td>0.56</td>\n",
       "      <td>10.52</td>\n",
       "      <td>33.54</td>\n",
       "      <td>0.05</td>\n",
       "      <td>0.76</td>\n",
       "      <td>53.29</td>\n",
       "      <td>1.06</td>\n",
       "      <td>0.00</td>\n",
       "      <td>0.00</td>\n",
       "      <td>0.22</td>\n",
       "    </tr>\n",
       "    <tr>\n",
       "      <th>White or Caucasian</th>\n",
       "      <td>0.42</td>\n",
       "      <td>24.85</td>\n",
       "      <td>38.31</td>\n",
       "      <td>0.27</td>\n",
       "      <td>0.56</td>\n",
       "      <td>34.15</td>\n",
       "      <td>1.27</td>\n",
       "      <td>0.01</td>\n",
       "      <td>0.07</td>\n",
       "      <td>0.09</td>\n",
       "    </tr>\n",
       "  </tbody>\n",
       "</table>\n",
       "</div>"
      ],
      "text/plain": [
       "                                            AMA  Admit  Discharge  Eloped  \\\n",
       "race                                                                        \n",
       "American Indian or Alaska Native           0.24  20.80      47.30    0.65   \n",
       "Asian                                      0.19  13.19      26.91    0.04   \n",
       "Black or African American                  0.56  19.72      57.07    0.47   \n",
       "Native Hawaiian or Other Pacific Islander  0.00  11.01      43.74    0.29   \n",
       "Other                                      0.47  15.78      53.02    0.47   \n",
       "Patient Refused                            0.27  13.36      45.63    0.13   \n",
       "Unknown                                    0.56  10.52      33.54    0.05   \n",
       "White or Caucasian                         0.42  24.85      38.31    0.27   \n",
       "\n",
       "                                           LWBS after Triage  \\\n",
       "race                                                           \n",
       "American Indian or Alaska Native                        1.24   \n",
       "Asian                                                   0.49   \n",
       "Black or African American                               1.38   \n",
       "Native Hawaiian or Other Pacific Islander               1.28   \n",
       "Other                                                   1.20   \n",
       "Patient Refused                                         0.68   \n",
       "Unknown                                                 0.76   \n",
       "White or Caucasian                                      0.56   \n",
       "\n",
       "                                           No previous dispo  \\\n",
       "race                                                           \n",
       "American Indian or Alaska Native                       27.93   \n",
       "Asian                                                  54.98   \n",
       "Black or African American                              19.39   \n",
       "Native Hawaiian or Other Pacific Islander              41.76   \n",
       "Other                                                  27.97   \n",
       "Patient Refused                                        38.88   \n",
       "Unknown                                                53.29   \n",
       "White or Caucasian                                     34.15   \n",
       "\n",
       "                                           Transfer to Another Facility  \\\n",
       "race                                                                      \n",
       "American Indian or Alaska Native                                   1.23   \n",
       "Asian                                                              4.19   \n",
       "Black or African American                                          0.94   \n",
       "Native Hawaiian or Other Pacific Islander                          1.62   \n",
       "Other                                                              0.72   \n",
       "Patient Refused                                                    0.82   \n",
       "Unknown                                                            1.06   \n",
       "White or Caucasian                                                 1.27   \n",
       "\n",
       "                                           Send to L&D  Observation  \\\n",
       "race                                                                  \n",
       "American Indian or Alaska Native                  0.21         0.00   \n",
       "Asian                                             0.01         0.00   \n",
       "Black or African American                         0.04         0.08   \n",
       "Native Hawaiian or Other Pacific Islander         0.00         0.00   \n",
       "Other                                             0.09         0.04   \n",
       "Patient Refused                                   0.09         0.00   \n",
       "Unknown                                           0.00         0.00   \n",
       "White or Caucasian                                0.01         0.07   \n",
       "\n",
       "                                           LWBS before Triage  \n",
       "race                                                           \n",
       "American Indian or Alaska Native                         0.40  \n",
       "Asian                                                    0.00  \n",
       "Black or African American                                0.35  \n",
       "Native Hawaiian or Other Pacific Islander                0.30  \n",
       "Other                                                    0.24  \n",
       "Patient Refused                                          0.14  \n",
       "Unknown                                                  0.22  \n",
       "White or Caucasian                                       0.09  "
      ]
     },
     "execution_count": 43,
     "metadata": {},
     "output_type": "execute_result"
    }
   ],
   "source": [
    "average_cont_table = create_average_contingency_table(samples)\n",
    "average_cont_table"
   ]
  },
  {
   "cell_type": "markdown",
   "metadata": {},
   "source": [
    "# Modifying Dataframe"
   ]
  },
  {
   "cell_type": "code",
   "execution_count": 44,
   "metadata": {},
   "outputs": [],
   "source": [
    "from imblearn.over_sampling import RandomOverSampler\n",
    "\n",
    "sampler = RandomOverSampler(sampling_strategy='minority')"
   ]
  },
  {
   "cell_type": "code",
   "execution_count": 45,
   "metadata": {},
   "outputs": [],
   "source": [
    "%%capture\n",
    "cont = ['esi', 'age']\n",
    "cat = [\n",
    "    'gender',\n",
    "    'ethnicity',\n",
    "    'race',\n",
    "    'lang',\n",
    "    'religion',\n",
    "    'maritalstatus',\n",
    "    'employstatus',\n",
    "    'insurance_status',\n",
    "    'disposition',\n",
    "    'arrivalmode',\n",
    "    'previousdispo'\n",
    "]\n",
    "\n",
    "# Create individual label encoders for each column\n",
    "transformers = {}\n",
    "for col in cat:\n",
    "    transformers[col] = LabelEncoder()\n",
    "\n",
    "# fit each column with its corresponding label encoder\n",
    "for col in cat:\n",
    "    data[col] = data[[col]].apply(transformers[col].fit_transform)"
   ]
  },
  {
   "cell_type": "code",
   "execution_count": 46,
   "metadata": {},
   "outputs": [
    {
     "data": {
      "text/html": [
       "<div>\n",
       "<style scoped>\n",
       "    .dataframe tbody tr th:only-of-type {\n",
       "        vertical-align: middle;\n",
       "    }\n",
       "\n",
       "    .dataframe tbody tr th {\n",
       "        vertical-align: top;\n",
       "    }\n",
       "\n",
       "    .dataframe thead th {\n",
       "        text-align: right;\n",
       "    }\n",
       "</style>\n",
       "<table border=\"1\" class=\"dataframe\">\n",
       "  <thead>\n",
       "    <tr style=\"text-align: right;\">\n",
       "      <th></th>\n",
       "      <th>esi</th>\n",
       "      <th>age</th>\n",
       "      <th>gender</th>\n",
       "      <th>ethnicity</th>\n",
       "      <th>race</th>\n",
       "      <th>lang</th>\n",
       "      <th>religion</th>\n",
       "      <th>maritalstatus</th>\n",
       "      <th>employstatus</th>\n",
       "      <th>insurance_status</th>\n",
       "      <th>disposition</th>\n",
       "      <th>arrivalmode</th>\n",
       "      <th>previousdispo</th>\n",
       "    </tr>\n",
       "  </thead>\n",
       "  <tbody>\n",
       "    <tr>\n",
       "      <th>0</th>\n",
       "      <td>4</td>\n",
       "      <td>40</td>\n",
       "      <td>1</td>\n",
       "      <td>0</td>\n",
       "      <td>7</td>\n",
       "      <td>0</td>\n",
       "      <td>8</td>\n",
       "      <td>7</td>\n",
       "      <td>1</td>\n",
       "      <td>3</td>\n",
       "      <td>1</td>\n",
       "      <td>4</td>\n",
       "      <td>6</td>\n",
       "    </tr>\n",
       "    <tr>\n",
       "      <th>1</th>\n",
       "      <td>4</td>\n",
       "      <td>66</td>\n",
       "      <td>1</td>\n",
       "      <td>0</td>\n",
       "      <td>3</td>\n",
       "      <td>0</td>\n",
       "      <td>10</td>\n",
       "      <td>4</td>\n",
       "      <td>2</td>\n",
       "      <td>0</td>\n",
       "      <td>1</td>\n",
       "      <td>0</td>\n",
       "      <td>6</td>\n",
       "    </tr>\n",
       "  </tbody>\n",
       "</table>\n",
       "</div>"
      ],
      "text/plain": [
       "  esi age  gender  ethnicity  race  lang  religion  maritalstatus  \\\n",
       "0   4  40       1          0     7     0         8              7   \n",
       "1   4  66       1          0     3     0        10              4   \n",
       "\n",
       "   employstatus  insurance_status  disposition  arrivalmode  previousdispo  \n",
       "0             1                 3            1            4              6  \n",
       "1             2                 0            1            0              6  "
      ]
     },
     "execution_count": 46,
     "metadata": {},
     "output_type": "execute_result"
    }
   ],
   "source": [
    "data.head(2)"
   ]
  },
  {
   "cell_type": "code",
   "execution_count": 47,
   "metadata": {},
   "outputs": [],
   "source": [
    "data['esi'] = data['esi'].astype(int)"
   ]
  },
  {
   "cell_type": "code",
   "execution_count": 48,
   "metadata": {},
   "outputs": [],
   "source": [
    "col_to_balance = 'race'\n",
    "cols_without_balancing_col = [\n",
    "    'esi',\n",
    "    'age',\n",
    "    'gender',\n",
    "    'ethnicity',\n",
    "    'lang',\n",
    "    'religion',\n",
    "    'maritalstatus',\n",
    "    'employstatus',\n",
    "    'insurance_status',\n",
    "    'disposition',\n",
    "    'arrivalmode',\n",
    "    'previousdispo'\n",
    "]\n",
    "\n",
    "X, y = data[cols_without_balancing_col].values, data[col_to_balance].values"
   ]
  },
  {
   "cell_type": "markdown",
   "metadata": {},
   "source": [
    "The resampler resamples the smallest member to the biggest member and this needs to be done a certain number of times to get an equal amount of each race within the dataset."
   ]
  },
  {
   "cell_type": "code",
   "execution_count": 49,
   "metadata": {},
   "outputs": [],
   "source": [
    "X_resampled, y_resampled = sampler.fit_resample(X, y)\n",
    "X_resampled, y_resampled = sampler.fit_resample(X_resampled, y_resampled)\n",
    "X_resampled, y_resampled = sampler.fit_resample(X_resampled, y_resampled)\n",
    "X_resampled, y_resampled = sampler.fit_resample(X_resampled, y_resampled)\n",
    "X_resampled, y_resampled = sampler.fit_resample(X_resampled, y_resampled)\n",
    "X_resampled, y_resampled = sampler.fit_resample(X_resampled, y_resampled)\n",
    "X_resampled, y_resampled = sampler.fit_resample(X_resampled, y_resampled)"
   ]
  },
  {
   "cell_type": "markdown",
   "metadata": {},
   "source": [
    "Some of the races are extremely small in propertion to other races. The operation above scales all the data from the races with the smallest dataset population to the races with the largest dataset population. This results in a lot of generated or repeated data, which might affect the quality of the models that this data can produce."
   ]
  },
  {
   "cell_type": "code",
   "execution_count": 50,
   "metadata": {},
   "outputs": [],
   "source": [
    "from collections import Counter"
   ]
  },
  {
   "cell_type": "code",
   "execution_count": 51,
   "metadata": {},
   "outputs": [
    {
     "data": {
      "text/plain": [
       "Counter({7: 285494,\n",
       "         3: 285494,\n",
       "         4: 285494,\n",
       "         2: 285494,\n",
       "         5: 285494,\n",
       "         1: 285494,\n",
       "         6: 285494,\n",
       "         0: 285494})"
      ]
     },
     "execution_count": 51,
     "metadata": {},
     "output_type": "execute_result"
    }
   ],
   "source": [
    "Counter(y_resampled)"
   ]
  },
  {
   "cell_type": "markdown",
   "metadata": {},
   "source": [
    "Above is now the number of samples for each race where the numbers `[0-7]` can be corresponded to a label encoded race. The race can be derived with `transformers['race'].inverse_transform([0, 1, 2, 3, 4, 5, 7, 7])`."
   ]
  },
  {
   "cell_type": "code",
   "execution_count": 52,
   "metadata": {},
   "outputs": [
    {
     "data": {
      "text/plain": [
       "(2283952, 12)"
      ]
     },
     "execution_count": 52,
     "metadata": {},
     "output_type": "execute_result"
    }
   ],
   "source": [
    "X_resampled.shape"
   ]
  },
  {
   "cell_type": "code",
   "execution_count": 53,
   "metadata": {},
   "outputs": [],
   "source": [
    "full = pd.DataFrame(X_resampled, columns=cols_without_balancing_col)"
   ]
  },
  {
   "cell_type": "code",
   "execution_count": 54,
   "metadata": {},
   "outputs": [
    {
     "data": {
      "text/html": [
       "<div>\n",
       "<style scoped>\n",
       "    .dataframe tbody tr th:only-of-type {\n",
       "        vertical-align: middle;\n",
       "    }\n",
       "\n",
       "    .dataframe tbody tr th {\n",
       "        vertical-align: top;\n",
       "    }\n",
       "\n",
       "    .dataframe thead th {\n",
       "        text-align: right;\n",
       "    }\n",
       "</style>\n",
       "<table border=\"1\" class=\"dataframe\">\n",
       "  <thead>\n",
       "    <tr style=\"text-align: right;\">\n",
       "      <th></th>\n",
       "      <th>esi</th>\n",
       "      <th>age</th>\n",
       "      <th>gender</th>\n",
       "      <th>ethnicity</th>\n",
       "      <th>lang</th>\n",
       "      <th>religion</th>\n",
       "      <th>maritalstatus</th>\n",
       "      <th>employstatus</th>\n",
       "      <th>insurance_status</th>\n",
       "      <th>disposition</th>\n",
       "      <th>arrivalmode</th>\n",
       "      <th>previousdispo</th>\n",
       "    </tr>\n",
       "  </thead>\n",
       "  <tbody>\n",
       "    <tr>\n",
       "      <th>0</th>\n",
       "      <td>4</td>\n",
       "      <td>40</td>\n",
       "      <td>1</td>\n",
       "      <td>0</td>\n",
       "      <td>0</td>\n",
       "      <td>8</td>\n",
       "      <td>7</td>\n",
       "      <td>1</td>\n",
       "      <td>3</td>\n",
       "      <td>1</td>\n",
       "      <td>4</td>\n",
       "      <td>6</td>\n",
       "    </tr>\n",
       "    <tr>\n",
       "      <th>1</th>\n",
       "      <td>4</td>\n",
       "      <td>66</td>\n",
       "      <td>1</td>\n",
       "      <td>0</td>\n",
       "      <td>0</td>\n",
       "      <td>10</td>\n",
       "      <td>4</td>\n",
       "      <td>2</td>\n",
       "      <td>0</td>\n",
       "      <td>1</td>\n",
       "      <td>0</td>\n",
       "      <td>6</td>\n",
       "    </tr>\n",
       "    <tr>\n",
       "      <th>2</th>\n",
       "      <td>2</td>\n",
       "      <td>66</td>\n",
       "      <td>1</td>\n",
       "      <td>0</td>\n",
       "      <td>0</td>\n",
       "      <td>10</td>\n",
       "      <td>4</td>\n",
       "      <td>2</td>\n",
       "      <td>0</td>\n",
       "      <td>1</td>\n",
       "      <td>4</td>\n",
       "      <td>2</td>\n",
       "    </tr>\n",
       "    <tr>\n",
       "      <th>3</th>\n",
       "      <td>2</td>\n",
       "      <td>66</td>\n",
       "      <td>1</td>\n",
       "      <td>0</td>\n",
       "      <td>0</td>\n",
       "      <td>10</td>\n",
       "      <td>4</td>\n",
       "      <td>2</td>\n",
       "      <td>0</td>\n",
       "      <td>1</td>\n",
       "      <td>0</td>\n",
       "      <td>2</td>\n",
       "    </tr>\n",
       "    <tr>\n",
       "      <th>4</th>\n",
       "      <td>3</td>\n",
       "      <td>84</td>\n",
       "      <td>0</td>\n",
       "      <td>0</td>\n",
       "      <td>1</td>\n",
       "      <td>10</td>\n",
       "      <td>9</td>\n",
       "      <td>5</td>\n",
       "      <td>2</td>\n",
       "      <td>0</td>\n",
       "      <td>4</td>\n",
       "      <td>2</td>\n",
       "    </tr>\n",
       "  </tbody>\n",
       "</table>\n",
       "</div>"
      ],
      "text/plain": [
       "  esi age gender ethnicity lang religion maritalstatus employstatus  \\\n",
       "0   4  40      1         0    0        8             7            1   \n",
       "1   4  66      1         0    0       10             4            2   \n",
       "2   2  66      1         0    0       10             4            2   \n",
       "3   2  66      1         0    0       10             4            2   \n",
       "4   3  84      0         0    1       10             9            5   \n",
       "\n",
       "  insurance_status disposition arrivalmode previousdispo  \n",
       "0                3           1           4             6  \n",
       "1                0           1           0             6  \n",
       "2                0           1           4             2  \n",
       "3                0           1           0             2  \n",
       "4                2           0           4             2  "
      ]
     },
     "execution_count": 54,
     "metadata": {},
     "output_type": "execute_result"
    }
   ],
   "source": [
    "full.head()"
   ]
  },
  {
   "cell_type": "code",
   "execution_count": 55,
   "metadata": {},
   "outputs": [
    {
     "data": {
      "text/html": [
       "<div>\n",
       "<style scoped>\n",
       "    .dataframe tbody tr th:only-of-type {\n",
       "        vertical-align: middle;\n",
       "    }\n",
       "\n",
       "    .dataframe tbody tr th {\n",
       "        vertical-align: top;\n",
       "    }\n",
       "\n",
       "    .dataframe thead th {\n",
       "        text-align: right;\n",
       "    }\n",
       "</style>\n",
       "<table border=\"1\" class=\"dataframe\">\n",
       "  <thead>\n",
       "    <tr style=\"text-align: right;\">\n",
       "      <th></th>\n",
       "      <th>esi</th>\n",
       "      <th>age</th>\n",
       "      <th>gender</th>\n",
       "      <th>ethnicity</th>\n",
       "      <th>lang</th>\n",
       "      <th>religion</th>\n",
       "      <th>maritalstatus</th>\n",
       "      <th>employstatus</th>\n",
       "      <th>insurance_status</th>\n",
       "      <th>disposition</th>\n",
       "      <th>arrivalmode</th>\n",
       "      <th>previousdispo</th>\n",
       "      <th>race</th>\n",
       "    </tr>\n",
       "  </thead>\n",
       "  <tbody>\n",
       "    <tr>\n",
       "      <th>0</th>\n",
       "      <td>4</td>\n",
       "      <td>40</td>\n",
       "      <td>1</td>\n",
       "      <td>0</td>\n",
       "      <td>0</td>\n",
       "      <td>8</td>\n",
       "      <td>7</td>\n",
       "      <td>1</td>\n",
       "      <td>3</td>\n",
       "      <td>1</td>\n",
       "      <td>4</td>\n",
       "      <td>6</td>\n",
       "      <td>7</td>\n",
       "    </tr>\n",
       "    <tr>\n",
       "      <th>1</th>\n",
       "      <td>4</td>\n",
       "      <td>66</td>\n",
       "      <td>1</td>\n",
       "      <td>0</td>\n",
       "      <td>0</td>\n",
       "      <td>10</td>\n",
       "      <td>4</td>\n",
       "      <td>2</td>\n",
       "      <td>0</td>\n",
       "      <td>1</td>\n",
       "      <td>0</td>\n",
       "      <td>6</td>\n",
       "      <td>3</td>\n",
       "    </tr>\n",
       "    <tr>\n",
       "      <th>2</th>\n",
       "      <td>2</td>\n",
       "      <td>66</td>\n",
       "      <td>1</td>\n",
       "      <td>0</td>\n",
       "      <td>0</td>\n",
       "      <td>10</td>\n",
       "      <td>4</td>\n",
       "      <td>2</td>\n",
       "      <td>0</td>\n",
       "      <td>1</td>\n",
       "      <td>4</td>\n",
       "      <td>2</td>\n",
       "      <td>3</td>\n",
       "    </tr>\n",
       "    <tr>\n",
       "      <th>3</th>\n",
       "      <td>2</td>\n",
       "      <td>66</td>\n",
       "      <td>1</td>\n",
       "      <td>0</td>\n",
       "      <td>0</td>\n",
       "      <td>10</td>\n",
       "      <td>4</td>\n",
       "      <td>2</td>\n",
       "      <td>0</td>\n",
       "      <td>1</td>\n",
       "      <td>0</td>\n",
       "      <td>2</td>\n",
       "      <td>3</td>\n",
       "    </tr>\n",
       "    <tr>\n",
       "      <th>4</th>\n",
       "      <td>3</td>\n",
       "      <td>84</td>\n",
       "      <td>0</td>\n",
       "      <td>0</td>\n",
       "      <td>1</td>\n",
       "      <td>10</td>\n",
       "      <td>9</td>\n",
       "      <td>5</td>\n",
       "      <td>2</td>\n",
       "      <td>0</td>\n",
       "      <td>4</td>\n",
       "      <td>2</td>\n",
       "      <td>4</td>\n",
       "    </tr>\n",
       "  </tbody>\n",
       "</table>\n",
       "</div>"
      ],
      "text/plain": [
       "  esi age gender ethnicity lang religion maritalstatus employstatus  \\\n",
       "0   4  40      1         0    0        8             7            1   \n",
       "1   4  66      1         0    0       10             4            2   \n",
       "2   2  66      1         0    0       10             4            2   \n",
       "3   2  66      1         0    0       10             4            2   \n",
       "4   3  84      0         0    1       10             9            5   \n",
       "\n",
       "  insurance_status disposition arrivalmode previousdispo  race  \n",
       "0                3           1           4             6     7  \n",
       "1                0           1           0             6     3  \n",
       "2                0           1           4             2     3  \n",
       "3                0           1           0             2     3  \n",
       "4                2           0           4             2     4  "
      ]
     },
     "execution_count": 55,
     "metadata": {},
     "output_type": "execute_result"
    }
   ],
   "source": [
    "full['race'] = y_resampled\n",
    "full.head()"
   ]
  },
  {
   "cell_type": "code",
   "execution_count": 56,
   "metadata": {},
   "outputs": [
    {
     "data": {
      "text/plain": [
       "Index(['esi', 'age', 'gender', 'ethnicity', 'lang', 'religion',\n",
       "       'maritalstatus', 'employstatus', 'insurance_status', 'disposition',\n",
       "       'arrivalmode', 'previousdispo', 'race'],\n",
       "      dtype='object')"
      ]
     },
     "execution_count": 56,
     "metadata": {},
     "output_type": "execute_result"
    }
   ],
   "source": [
    "full.columns"
   ]
  },
  {
   "cell_type": "code",
   "execution_count": 57,
   "metadata": {},
   "outputs": [],
   "source": [
    "procedures = []\n",
    "splits = fastai.tabular.all.RandomSplitter(\n",
    "    valid_pct=0.2, seed=42)(fastai.tabular.all.range_of(full))\n",
    "\n",
    "cont = ['esi', 'age']\n",
    "cat = [\n",
    "    'gender',\n",
    "    'ethnicity',\n",
    "    'race',\n",
    "    'lang',\n",
    "    'religion',\n",
    "    'maritalstatus',\n",
    "    'employstatus',\n",
    "    'insurance_status',\n",
    "    'disposition',\n",
    "    'arrivalmode',\n",
    "]"
   ]
  },
  {
   "cell_type": "markdown",
   "metadata": {},
   "source": [
    "`cat` and `cont` are the *categorical* and the *continuous* variables."
   ]
  },
  {
   "cell_type": "code",
   "execution_count": 58,
   "metadata": {},
   "outputs": [
    {
     "data": {
      "text/html": [
       "<table border=\"1\" class=\"dataframe\">\n",
       "  <thead>\n",
       "    <tr style=\"text-align: right;\">\n",
       "      <th></th>\n",
       "      <th>gender</th>\n",
       "      <th>ethnicity</th>\n",
       "      <th>race</th>\n",
       "      <th>lang</th>\n",
       "      <th>religion</th>\n",
       "      <th>maritalstatus</th>\n",
       "      <th>employstatus</th>\n",
       "      <th>insurance_status</th>\n",
       "      <th>disposition</th>\n",
       "      <th>arrivalmode</th>\n",
       "      <th>esi</th>\n",
       "      <th>age</th>\n",
       "      <th>previousdispo</th>\n",
       "    </tr>\n",
       "  </thead>\n",
       "  <tbody>\n",
       "    <tr>\n",
       "      <th>1742015</th>\n",
       "      <td>1</td>\n",
       "      <td>1</td>\n",
       "      <td>5</td>\n",
       "      <td>0</td>\n",
       "      <td>1</td>\n",
       "      <td>4</td>\n",
       "      <td>1</td>\n",
       "      <td>0</td>\n",
       "      <td>1</td>\n",
       "      <td>0</td>\n",
       "      <td>4</td>\n",
       "      <td>42</td>\n",
       "      <td>6</td>\n",
       "    </tr>\n",
       "    <tr>\n",
       "      <th>269932</th>\n",
       "      <td>0</td>\n",
       "      <td>0</td>\n",
       "      <td>4</td>\n",
       "      <td>0</td>\n",
       "      <td>1</td>\n",
       "      <td>7</td>\n",
       "      <td>2</td>\n",
       "      <td>1</td>\n",
       "      <td>1</td>\n",
       "      <td>4</td>\n",
       "      <td>4</td>\n",
       "      <td>50</td>\n",
       "      <td>2</td>\n",
       "    </tr>\n",
       "    <tr>\n",
       "      <th>2230031</th>\n",
       "      <td>0</td>\n",
       "      <td>1</td>\n",
       "      <td>2</td>\n",
       "      <td>0</td>\n",
       "      <td>8</td>\n",
       "      <td>7</td>\n",
       "      <td>4</td>\n",
       "      <td>1</td>\n",
       "      <td>1</td>\n",
       "      <td>4</td>\n",
       "      <td>4</td>\n",
       "      <td>36</td>\n",
       "      <td>5</td>\n",
       "    </tr>\n",
       "    <tr>\n",
       "      <th>397509</th>\n",
       "      <td>0</td>\n",
       "      <td>1</td>\n",
       "      <td>7</td>\n",
       "      <td>0</td>\n",
       "      <td>8</td>\n",
       "      <td>4</td>\n",
       "      <td>1</td>\n",
       "      <td>0</td>\n",
       "      <td>1</td>\n",
       "      <td>0</td>\n",
       "      <td>3</td>\n",
       "      <td>49</td>\n",
       "      <td>6</td>\n",
       "    </tr>\n",
       "    <tr>\n",
       "      <th>1846139</th>\n",
       "      <td>0</td>\n",
       "      <td>0</td>\n",
       "      <td>5</td>\n",
       "      <td>0</td>\n",
       "      <td>2</td>\n",
       "      <td>4</td>\n",
       "      <td>2</td>\n",
       "      <td>1</td>\n",
       "      <td>1</td>\n",
       "      <td>6</td>\n",
       "      <td>2</td>\n",
       "      <td>28</td>\n",
       "      <td>6</td>\n",
       "    </tr>\n",
       "  </tbody>\n",
       "</table>"
      ],
      "text/plain": [
       "<IPython.core.display.HTML object>"
      ]
     },
     "metadata": {},
     "output_type": "display_data"
    }
   ],
   "source": [
    "to = fastai.tabular.all.TabularPandas(\n",
    "    df=full,\n",
    "    procs=procedures,\n",
    "    cat_names=cat,\n",
    "    cont_names=cont,\n",
    "    y_names='previousdispo',\n",
    "    splits=splits\n",
    ")\n",
    "to.show(5)"
   ]
  },
  {
   "cell_type": "code",
   "execution_count": 59,
   "metadata": {},
   "outputs": [],
   "source": [
    "X_train, y_train = to.train.xs, to.train.y\n",
    "X_test, y_test = to.valid.xs, to.valid.y"
   ]
  },
  {
   "cell_type": "markdown",
   "metadata": {},
   "source": [
    "# Random Forest (300)"
   ]
  },
  {
   "cell_type": "code",
   "execution_count": null,
   "metadata": {},
   "outputs": [],
   "source": [
    "from sklearn.ensemble import RandomForestClassifier"
   ]
  },
  {
   "cell_type": "code",
   "execution_count": null,
   "metadata": {},
   "outputs": [],
   "source": [
    "model = RandomForestClassifier(300, verbose=2, n_jobs=-1)\n",
    "model.fit(X_train, y_train)"
   ]
  },
  {
   "cell_type": "code",
   "execution_count": null,
   "metadata": {},
   "outputs": [],
   "source": [
    "preds = model.predict(X_test)\n",
    "preds"
   ]
  },
  {
   "cell_type": "code",
   "execution_count": null,
   "metadata": {},
   "outputs": [],
   "source": [
    "from sklearn.metrics import f1_score\n",
    "f1_score(y_test, preds, average = None)"
   ]
  },
  {
   "cell_type": "code",
   "execution_count": null,
   "metadata": {},
   "outputs": [],
   "source": [
    "from sklearn.metrics import confusion_matrix\n",
    "matrix = confusion_matrix(y_test, preds)\n",
    "matrix = matrix.astype('float') / matrix.sum(axis=1)[:, np.newaxis]\n",
    "\n",
    "plt.figure(figsize=(16,7))\n",
    "sns.set(font_scale=1.4)\n",
    "sns.heatmap(matrix, annot=True, annot_kws={'size':10},\n",
    "            cmap=plt.cm.Greens, linewidths=0.2)\n",
    "\n",
    "plot_labels = list(full['previousdispo'].unique())\n",
    "plot_labels.sort()\n",
    "plot_labels_transformed = transformers['previousdispo'].inverse_transform(plot_labels)\n",
    "class_names = list(plot_labels_transformed)\n",
    "tick_marks = np.arange(len(class_names)) + 0.5\n",
    "tick_marks2 = tick_marks + 0.5\n",
    "plt.xticks(tick_marks, class_names, rotation=90)\n",
    "plt.yticks(tick_marks2, class_names, rotation=0)\n",
    "plt.xlabel('Predicted label')\n",
    "plt.ylabel('True label')\n",
    "plt.title('Confusion Matrix for Random Forest Model')\n",
    "plt.show()"
   ]
  },
  {
   "cell_type": "markdown",
   "metadata": {},
   "source": [
    "# Decision Tree"
   ]
  },
  {
   "cell_type": "markdown",
   "metadata": {},
   "source": [
    "It has a hard time predicting `LWBS before Triage` and `Observation`."
   ]
  },
  {
   "cell_type": "code",
   "execution_count": null,
   "metadata": {},
   "outputs": [],
   "source": [
    "from sklearn.tree import DecisionTreeClassifier\n",
    "from sklearn import tree"
   ]
  },
  {
   "cell_type": "code",
   "execution_count": null,
   "metadata": {},
   "outputs": [],
   "source": [
    "model = tree.DecisionTreeClassifier(max_depth= 5000)\n",
    "model.fit(X_train, y_train)\n",
    "preds = model.predict(X_test)"
   ]
  },
  {
   "cell_type": "code",
   "execution_count": null,
   "metadata": {},
   "outputs": [],
   "source": [
    "f1_score(y_test, preds, average = None)"
   ]
  },
  {
   "cell_type": "code",
   "execution_count": null,
   "metadata": {},
   "outputs": [],
   "source": [
    "from sklearn.metrics import confusion_matrix\n",
    "matrix = confusion_matrix(y_test, preds)\n",
    "matrix = matrix.astype('float') / matrix.sum(axis=1)[:, np.newaxis]\n",
    "\n",
    "plt.figure(figsize=(16,7))\n",
    "sns.set(font_scale=1.4)\n",
    "sns.heatmap(matrix, annot=True, annot_kws={'size':10},\n",
    "            cmap=plt.cm.Greens, linewidths=0.2)\n",
    "\n",
    "plot_labels = list(full['previousdispo'].unique())\n",
    "plot_labels.sort()\n",
    "plot_labels_transformed = transformers['previousdispo'].inverse_transform(plot_labels)\n",
    "class_names = list(plot_labels_transformed)\n",
    "tick_marks = np.arange(len(class_names)) + 0.5\n",
    "tick_marks2 = tick_marks + 0.5\n",
    "plt.xticks(tick_marks, class_names, rotation=90)\n",
    "plt.yticks(tick_marks2, class_names, rotation=0)\n",
    "plt.xlabel('Predicted label')\n",
    "plt.ylabel('True label')\n",
    "plt.title('Confusion Matrix for Decision Tree Model')\n",
    "plt.show()"
   ]
  },
  {
   "cell_type": "markdown",
   "metadata": {},
   "source": [
    "# Random Forest (500)"
   ]
  },
  {
   "cell_type": "markdown",
   "metadata": {},
   "source": [
    "It has a hard time predicting `LWBS before Triage` and `Observation`."
   ]
  },
  {
   "cell_type": "code",
   "execution_count": null,
   "metadata": {},
   "outputs": [],
   "source": [
    "model = RandomForestClassifier(500, verbose=2, n_jobs=-1)\n",
    "model.fit(X_train, y_train)"
   ]
  },
  {
   "cell_type": "code",
   "execution_count": null,
   "metadata": {},
   "outputs": [],
   "source": [
    "preds = model.predict(X_test)\n",
    "preds"
   ]
  },
  {
   "cell_type": "code",
   "execution_count": null,
   "metadata": {},
   "outputs": [],
   "source": [
    "from sklearn.metrics import f1_score\n",
    "f1_score(y_test, preds, average = None)"
   ]
  },
  {
   "cell_type": "code",
   "execution_count": null,
   "metadata": {},
   "outputs": [],
   "source": [
    "from sklearn.metrics import confusion_matrix\n",
    "matrix = confusion_matrix(y_test, preds)\n",
    "matrix = matrix.astype('float') / matrix.sum(axis=1)[:, np.newaxis]\n",
    "\n",
    "plt.figure(figsize=(16,7))\n",
    "sns.set(font_scale=1.4)\n",
    "sns.heatmap(matrix, annot=True, annot_kws={'size':10},\n",
    "            cmap=plt.cm.Greens, linewidths=0.2)\n",
    "\n",
    "plot_labels = list(full['previousdispo'].unique())\n",
    "plot_labels.sort()\n",
    "plot_labels_transformed = transformers['previousdispo'].inverse_transform(plot_labels)\n",
    "class_names = list(plot_labels_transformed)\n",
    "tick_marks = np.arange(len(class_names)) + 0.5\n",
    "tick_marks2 = tick_marks + 0.5\n",
    "plt.xticks(tick_marks, class_names, rotation=90)\n",
    "plt.yticks(tick_marks2, class_names, rotation=0)\n",
    "plt.xlabel('Predicted label')\n",
    "plt.ylabel('True label')\n",
    "plt.title('Confusion Matrix for Random Forest Model')\n",
    "plt.show()"
   ]
  },
  {
   "cell_type": "markdown",
   "metadata": {},
   "source": [
    "# Random Forest (800)"
   ]
  },
  {
   "cell_type": "markdown",
   "metadata": {},
   "source": [
    "The results are less than encouraging."
   ]
  },
  {
   "cell_type": "code",
   "execution_count": 5,
   "metadata": {},
   "outputs": [
    {
     "ename": "NameError",
     "evalue": "name 'X_train' is not defined",
     "output_type": "error",
     "traceback": [
      "\u001b[1;31m---------------------------------------------------------------------------\u001b[0m",
      "\u001b[1;31mNameError\u001b[0m                                 Traceback (most recent call last)",
      "Input \u001b[1;32mIn [5]\u001b[0m, in \u001b[0;36m<cell line: 1>\u001b[1;34m()\u001b[0m\n\u001b[1;32m----> 1\u001b[0m \u001b[43mX_train\u001b[49m\u001b[38;5;241m.\u001b[39mshape\n",
      "\u001b[1;31mNameError\u001b[0m: name 'X_train' is not defined"
     ]
    }
   ],
   "source": [
    "X_train.shape"
   ]
  },
  {
   "cell_type": "markdown",
   "metadata": {},
   "source": [
    "Divisors of `1827162` are `1, 2, 3, 6, 9, 18, 83, 166, 249, 498, 747, 1223, 1494, 2446, 3669, 7338, 11007, 22014, 101509, 203018, 304527, 609054, 913581, 1827162`. [Divisors Calculator](https://www.hackmath.net/en/calculator/divisors?n=1827162&submit=Calculate)"
   ]
  },
  {
   "cell_type": "code",
   "execution_count": null,
   "metadata": {},
   "outputs": [],
   "source": [
    "batch_size = 1494\n",
    "\n",
    "X_train_batches = [X_train[x : x + batch_size] for x in range(0, len(X_train), batch_size)]\n",
    "y_train_batches = [y_train[x : x + batch_size] for x in range(0, len(y_train), batch_size)]\n",
    "\n",
    "X_train_batches = np.array(X_train_batches)\n",
    "y_train_batches = np.array(y_train_batches)"
   ]
  },
  {
   "cell_type": "code",
   "execution_count": null,
   "metadata": {},
   "outputs": [],
   "source": [
    "X_train_batches.shape, y_train_batches.shape"
   ]
  },
  {
   "cell_type": "code",
   "execution_count": null,
   "metadata": {},
   "outputs": [],
   "source": [
    "model = RandomForestClassifier(800, n_jobs=-1)\n",
    "batched_data = list(zip(X_train_batches, y_train_batches))\n",
    "\n",
    "counter = 1\n",
    "for i, j in batched_data:\n",
    "    model.fit(i, j)\n",
    "    print(f'Done with batch {counter} of {len(batched_data)}')\n",
    "    counter += 1"
   ]
  },
  {
   "cell_type": "code",
   "execution_count": null,
   "metadata": {},
   "outputs": [],
   "source": [
    "preds = model.predict(X_test)\n",
    "preds"
   ]
  },
  {
   "cell_type": "code",
   "execution_count": null,
   "metadata": {},
   "outputs": [],
   "source": [
    "from sklearn.metrics import f1_score\n",
    "f1_score(y_test, preds, average = None)"
   ]
  },
  {
   "cell_type": "code",
   "execution_count": null,
   "metadata": {},
   "outputs": [],
   "source": [
    "from sklearn.metrics import confusion_matrix\n",
    "matrix = confusion_matrix(y_test, preds)\n",
    "matrix = matrix.astype('float') / matrix.sum(axis=1)[:, np.newaxis]\n",
    "\n",
    "plt.figure(figsize=(16,7))\n",
    "sns.set(font_scale=1.4)\n",
    "sns.heatmap(matrix, annot=True, annot_kws={'size':10},\n",
    "            cmap=plt.cm.Greens, linewidths=0.2)\n",
    "\n",
    "plot_labels = list(full['previousdispo'].unique())\n",
    "plot_labels.sort()\n",
    "plot_labels_transformed = transformers['previousdispo'].inverse_transform(plot_labels)\n",
    "class_names = list(plot_labels_transformed)\n",
    "tick_marks = np.arange(len(class_names)) + 0.5\n",
    "tick_marks2 = tick_marks + 0.5\n",
    "plt.xticks(tick_marks, class_names, rotation=90)\n",
    "plt.yticks(tick_marks2, class_names, rotation=0)\n",
    "plt.xlabel('Predicted label')\n",
    "plt.ylabel('True label')\n",
    "plt.title('Confusion Matrix for Random Forest Model')\n",
    "plt.show()"
   ]
  },
  {
   "cell_type": "markdown",
   "metadata": {},
   "source": [
    "# Conclusions"
   ]
  },
  {
   "cell_type": "markdown",
   "metadata": {},
   "source": [
    "A potential problem with the current state of this notebook is that the validation data is also repeated, or generated by the oversampling algorithm, which might be a problem for determining the accuracy.  \n",
    "\n",
    "In addition, many of the models have a hard time predicting `LWBS before Triage` and `Observation`."
   ]
  },
  {
   "cell_type": "markdown",
   "metadata": {},
   "source": [
    "#### Agenda\n",
    "1. Attempt incorporating Shap Values so we can see the specific datapoints that influence disposition of patient the most\n",
    "2. Find other way to balance the data that won't lead to lots of repeated data.\n",
    "Last Priority:\n",
    "3. Attempt incorporating PCA - dimensionality-reducing model to identify important columns\n",
    "4. Use other machine learning techniques"
   ]
  },
  {
   "cell_type": "markdown",
   "metadata": {},
   "source": [
    "# Shap Values implmentation"
   ]
  },
  {
   "cell_type": "markdown",
   "metadata": {},
   "source": [
    "#### Purpose:\n",
    "To increase overall model transparency and pinpoint specific metrics that have the largest weight on classification output"
   ]
  },
  {
   "cell_type": "code",
   "execution_count": null,
   "metadata": {},
   "outputs": [],
   "source": [
    "import xgboost as xgb\n",
    "import shap"
   ]
  },
  {
   "cell_type": "code",
   "execution_count": null,
   "metadata": {},
   "outputs": [],
   "source": [
    "model = xgb.XGBRegressor(objective=\"reg:squarederror\") \n",
    "model.fit(X_test, y_test)"
   ]
  },
  {
   "cell_type": "markdown",
   "metadata": {},
   "source": [
    "#### 'X_test', 'y_test' used to save time with modeling"
   ]
  },
  {
   "cell_type": "code",
   "execution_count": null,
   "metadata": {},
   "outputs": [],
   "source": [
    "explainer = shap.Explainer(model)\n",
    "shap_values = explainer(X_test)"
   ]
  },
  {
   "cell_type": "code",
   "execution_count": null,
   "metadata": {},
   "outputs": [],
   "source": [
    "#first plot comparing importance of different metrics\n",
    "shap.plots.waterfall(shap_values[0])"
   ]
  },
  {
   "cell_type": "code",
   "execution_count": null,
   "metadata": {},
   "outputs": [],
   "source": [
    "shap.plots.force(shap_values[0])\n",
    "#forceplot to see distributed weights of factors"
   ]
  },
  {
   "cell_type": "code",
   "execution_count": null,
   "metadata": {},
   "outputs": [],
   "source": [
    "shap.plots.bar(shap_values)\n",
    "#barplot for data importance"
   ]
  },
  {
   "cell_type": "code",
   "execution_count": null,
   "metadata": {},
   "outputs": [],
   "source": []
  },
  {
   "cell_type": "markdown",
   "metadata": {},
   "source": [
    "# Neural Network for Classification using Tensorflow"
   ]
  },
  {
   "cell_type": "code",
   "execution_count": 65,
   "metadata": {},
   "outputs": [
    {
     "name": "stdout",
     "output_type": "stream",
     "text": [
      "2.9.1\n"
     ]
    }
   ],
   "source": [
    "import tensorflow as tf\n",
    "print(tf.__version__)"
   ]
  },
  {
   "cell_type": "code",
   "execution_count": 70,
   "metadata": {},
   "outputs": [],
   "source": [
    "tf.random.set_seed(42)"
   ]
  },
  {
   "cell_type": "code",
   "execution_count": 78,
   "metadata": {},
   "outputs": [],
   "source": [
    "class_model = tf.keras.Sequential([tf.keras.layers.Dense(8)])\n",
    "\n",
    "#input_shape = X_train.shape[0])                                \n",
    "#relu\n",
    "#relu\n",
    "#softmax\n",
    "#[tf.keras.layers.Dense(2)]"
   ]
  },
  {
   "cell_type": "code",
   "execution_count": 79,
   "metadata": {},
   "outputs": [
    {
     "name": "stdout",
     "output_type": "stream",
     "text": [
      "Epoch 1/20\n",
      "57099/57099 [==============================] - 146s 3ms/step - loss: -25.9356 - accuracy: 0.4322\n",
      "Epoch 2/20\n",
      "57099/57099 [==============================] - 146s 3ms/step - loss: -26.1663 - accuracy: 0.4329\n",
      "Epoch 3/20\n",
      "57099/57099 [==============================] - 145s 3ms/step - loss: -26.1666 - accuracy: 0.4329\n",
      "Epoch 4/20\n",
      "57099/57099 [==============================] - 145s 3ms/step - loss: -26.1665 - accuracy: 0.4329\n",
      "Epoch 5/20\n",
      "57099/57099 [==============================] - 133s 2ms/step - loss: -26.1664 - accuracy: 0.4329\n",
      "Epoch 6/20\n",
      "57099/57099 [==============================] - 142s 2ms/step - loss: -26.1664 - accuracy: 0.4329\n",
      "Epoch 7/20\n",
      "57099/57099 [==============================] - 142s 2ms/step - loss: -26.1664 - accuracy: 0.4329\n",
      "Epoch 8/20\n",
      "57099/57099 [==============================] - 142s 2ms/step - loss: -26.1664 - accuracy: 0.4329\n",
      "Epoch 9/20\n",
      "57099/57099 [==============================] - 142s 2ms/step - loss: -26.1664 - accuracy: 0.4329\n",
      "Epoch 10/20\n",
      "57099/57099 [==============================] - 143s 3ms/step - loss: -26.1663 - accuracy: 0.4329\n",
      "Epoch 11/20\n",
      "57099/57099 [==============================] - 141s 2ms/step - loss: -26.1663 - accuracy: 0.4329\n",
      "Epoch 12/20\n",
      "57099/57099 [==============================] - 134s 2ms/step - loss: -26.1663 - accuracy: 0.4329\n",
      "Epoch 13/20\n",
      "57099/57099 [==============================] - 144s 3ms/step - loss: -26.1665 - accuracy: 0.4329\n",
      "Epoch 14/20\n",
      "57099/57099 [==============================] - 145s 3ms/step - loss: -26.1664 - accuracy: 0.4329\n",
      "Epoch 15/20\n",
      "57099/57099 [==============================] - 146s 3ms/step - loss: -26.1664 - accuracy: 0.4329\n",
      "Epoch 16/20\n",
      "57099/57099 [==============================] - 145s 3ms/step - loss: -26.1664 - accuracy: 0.4329\n",
      "Epoch 17/20\n",
      "57099/57099 [==============================] - 146s 3ms/step - loss: -26.1665 - accuracy: 0.4329\n",
      "Epoch 18/20\n",
      "57099/57099 [==============================] - 145s 3ms/step - loss: -26.1663 - accuracy: 0.4329\n",
      "Epoch 19/20\n",
      "57099/57099 [==============================] - 145s 3ms/step - loss: -26.1664 - accuracy: 0.4329\n",
      "Epoch 20/20\n",
      "57099/57099 [==============================] - 144s 3ms/step - loss: -26.1664 - accuracy: 0.4329\n"
     ]
    },
    {
     "data": {
      "text/plain": [
       "<keras.callbacks.History at 0x20dc95a6a10>"
      ]
     },
     "execution_count": 79,
     "metadata": {},
     "output_type": "execute_result"
    }
   ],
   "source": [
    "class_model.compile(loss = tf.keras.losses.BinaryCrossentropy(), optimizer = tf.keras.optimizers.SGD(), metrics = ['accuracy'])\n",
    "class_model.fit(X_train, y_train, epochs = 20)"
   ]
  },
  {
   "cell_type": "code",
   "execution_count": 81,
   "metadata": {},
   "outputs": [],
   "source": [
    "X = np.asarray(X).astype(np.float32)\n",
    "y = np.asarray(y).astype(np.float32)"
   ]
  },
  {
   "cell_type": "code",
   "execution_count": 82,
   "metadata": {},
   "outputs": [
    {
     "name": "stdout",
     "output_type": "stream",
     "text": [
      "16788/16788 [==============================] - 39s 2ms/step - loss: -22.7178 - accuracy: 0.4970\n"
     ]
    },
    {
     "data": {
      "text/plain": [
       "[-22.717798233032227, 0.4969601333141327]"
      ]
     },
     "execution_count": 82,
     "metadata": {},
     "output_type": "execute_result"
    }
   ],
   "source": [
    "class_model.evaluate(X, y)"
   ]
  }
 ],
 "metadata": {
  "kernelspec": {
   "display_name": "Python 3 (ipykernel)",
   "language": "python",
   "name": "python3"
  },
  "language_info": {
   "codemirror_mode": {
    "name": "ipython",
    "version": 3
   },
   "file_extension": ".py",
   "mimetype": "text/x-python",
   "name": "python",
   "nbconvert_exporter": "python",
   "pygments_lexer": "ipython3",
   "version": "3.10.0"
  },
  "vscode": {
   "interpreter": {
    "hash": "026d1ead030e2e4612b002316f6686612805c52872ab262749162caf603f666c"
   }
  }
 },
 "nbformat": 4,
 "nbformat_minor": 2
}
