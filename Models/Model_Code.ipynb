{
 "cells": [
  {
   "cell_type": "code",
   "execution_count": 1,
   "id": "6d1b49bc",
   "metadata": {},
   "outputs": [],
   "source": [
    "import pyreadr"
   ]
  },
  {
   "cell_type": "code",
   "execution_count": 2,
   "id": "636f4a2d",
   "metadata": {},
   "outputs": [],
   "source": [
    "result = pyreadr.read_r(r'C:\\Users\\tingp\\AI_for_Bias_Detection_Healthcare\\5v_cleandf.rdata')"
   ]
  },
  {
   "cell_type": "code",
   "execution_count": 5,
   "id": "3670e467",
   "metadata": {},
   "outputs": [
    {
     "ename": "KeyError",
     "evalue": "'ethnicity'",
     "output_type": "error",
     "traceback": [
      "\u001b[1;31m---------------------------------------------------------------------------\u001b[0m",
      "\u001b[1;31mKeyError\u001b[0m                                  Traceback (most recent call last)",
      "Input \u001b[1;32mIn [5]\u001b[0m, in \u001b[0;36m<cell line: 2>\u001b[1;34m()\u001b[0m\n\u001b[0;32m      1\u001b[0m result\u001b[38;5;241m.\u001b[39mkeys()\n\u001b[1;32m----> 2\u001b[0m data \u001b[38;5;241m=\u001b[39m \u001b[43mresult\u001b[49m\u001b[43m[\u001b[49m\u001b[38;5;124;43m'\u001b[39;49m\u001b[38;5;124;43methnicity\u001b[39;49m\u001b[38;5;124;43m'\u001b[39;49m\u001b[43m]\u001b[49m\n",
      "\u001b[1;31mKeyError\u001b[0m: 'ethnicity'"
     ]
    }
   ],
   "source": [
    "result.keys()\n",
    "data = result['ethnicity']"
   ]
  },
  {
   "cell_type": "code",
   "execution_count": null,
   "id": "3d2327db",
   "metadata": {},
   "outputs": [],
   "source": [
    "data.head()"
   ]
  }
 ],
 "metadata": {
  "kernelspec": {
   "display_name": "Python 3 (ipykernel)",
   "language": "python",
   "name": "python3"
  },
  "language_info": {
   "codemirror_mode": {
    "name": "ipython",
    "version": 3
   },
   "file_extension": ".py",
   "mimetype": "text/x-python",
   "name": "python",
   "nbconvert_exporter": "python",
   "pygments_lexer": "ipython3",
   "version": "3.10.0"
  }
 },
 "nbformat": 4,
 "nbformat_minor": 5
}
