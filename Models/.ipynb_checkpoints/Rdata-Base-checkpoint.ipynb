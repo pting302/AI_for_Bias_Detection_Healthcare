{
 "cells": [
  {
   "cell_type": "code",
   "execution_count": 1,
   "id": "4404a4b5",
   "metadata": {},
   "outputs": [],
   "source": [
    "import pyreadr\n",
    "import numpy as np\n",
    "import pandas as pd\n",
    "import matplotlib.pyplot as plt\n",
    "import seaborn as sns\n",
    "from scipy.stats import chi2_contingency\n",
    "import imblearn\n",
    "from sklearn.preprocessing import LabelEncoder\n",
    "import fastai\n",
    "from fastai import *\n",
    "import fastai.tabular.all"
   ]
  },
  {
   "cell_type": "code",
   "execution_count": null,
   "id": "1246d0f2",
   "metadata": {},
   "outputs": [],
   "source": [
    "data_file = '../5v_cleandf.rdata'\n",
    "r_format = pyreadr.read_r(data_file)\n",
    "df = r_format['df']  # this is the dataset\n",
    "df.head().T"
   ]
  },
  {
   "cell_type": "markdown",
   "id": "5837c2ed",
   "metadata": {},
   "source": [
    "The dataset is too large to work with fast, so we can condense it only to the columns that we want."
   ]
  },
  {
   "cell_type": "code",
   "execution_count": null,
   "id": "2e4d89c4",
   "metadata": {},
   "outputs": [],
   "source": [
    "columns = ['esi',\n",
    "           'age',\n",
    "           'gender',\n",
    "           'ethnicity',\n",
    "           'race',\n",
    "           'lang',\n",
    "           'religion',\n",
    "           'maritalstatus',\n",
    "           'employstatus',\n",
    "           'insurance_status',\n",
    "           'disposition',\n",
    "           'arrivalmode',\n",
    "           'previousdispo']\n",
    "\n",
    "data = df.copy()[columns]"
   ]
  },
  {
   "cell_type": "markdown",
   "id": "fe9fc86e",
   "metadata": {},
   "source": [
    "The dataset contains many `null` values, so we can simply remove any rows that contain a `null` value in it."
   ]
  },
  {
   "cell_type": "code",
   "execution_count": null,
   "id": "28fb7490",
   "metadata": {},
   "outputs": [],
   "source": [
    "cols_in_dataframe = list(data.columns)\n",
    "\n",
    "for col in cols_in_dataframe:\n",
    "    rows_to_remove = []\n",
    "    nulled_col = list(data[col].isnull())\n",
    "    for i in range(len(nulled_col)):\n",
    "        if nulled_col[i] == True:\n",
    "            rows_to_remove.append(i)\n",
    "    rows_to_remove.sort(reverse=True)\n",
    "    \n",
    "    data.drop(rows_to_remove, inplace=True)\n",
    "    data.reset_index(drop=True, inplace=True)\n",
    "    \n",
    "    print('Done condensing:', col)"
   ]
  },
  {
   "cell_type": "markdown",
   "id": "2c15bcf4",
   "metadata": {},
   "source": [
    "We can label encode the categorical columns to make it easier to work with for the models that we create."
   ]
  },
  {
   "cell_type": "code",
   "execution_count": null,
   "id": "6388233c",
   "metadata": {},
   "outputs": [],
   "source": [
    "%%capture\n",
    "cont = ['esi', 'age']\n",
    "cat = [\n",
    "    'gender',\n",
    "    'ethnicity',\n",
    "    'race',\n",
    "    'lang',\n",
    "    'religion',\n",
    "    'maritalstatus',\n",
    "    'employstatus',\n",
    "    'insurance_status',\n",
    "    'disposition',\n",
    "    'arrivalmode',\n",
    "    'previousdispo'\n",
    "]\n",
    "\n",
    "# Create individual label encoders for each column\n",
    "transformers = {}\n",
    "for col in cat:\n",
    "    transformers[col] = LabelEncoder()\n",
    "\n",
    "# fit each column with its corresponding label encoder\n",
    "for col in cat:\n",
    "    data[col] = data[[col]].apply(transformers[col].fit_transform)"
   ]
  },
  {
   "cell_type": "markdown",
   "id": "559c5d9f",
   "metadata": {},
   "source": [
    "The `esi` column is stored as strings, so we can convert it to numbers."
   ]
  },
  {
   "cell_type": "code",
   "execution_count": null,
   "id": "f87bd2ee",
   "metadata": {},
   "outputs": [],
   "source": [
    "data['esi'] = data['esi'].astype(int)"
   ]
  },
  {
   "cell_type": "markdown",
   "id": "fc7b4d53",
   "metadata": {},
   "source": [
    "Let's split the training and the testing data with the `sklearn` module."
   ]
  },
  {
   "cell_type": "code",
   "execution_count": null,
   "id": "298f0d3e",
   "metadata": {},
   "outputs": [],
   "source": [
    "data.columns"
   ]
  },
  {
   "cell_type": "code",
   "execution_count": null,
   "id": "ebcb5292",
   "metadata": {},
   "outputs": [],
   "source": [
    "cols_to_train_on = [\n",
    "    'esi', 'age', 'gender', 'ethnicity', 'race', 'lang', 'religion',\n",
    "    'maritalstatus', 'employstatus', 'insurance_status', 'disposition',\n",
    "    'arrivalmode'\n",
    "]\n",
    "\n",
    "col_dep_var = [ 'previousdispo' ]"
   ]
  },
  {
   "cell_type": "code",
   "execution_count": null,
   "id": "8135cc5b",
   "metadata": {},
   "outputs": [],
   "source": [
    "from sklearn.model_selection import train_test_split"
   ]
  },
  {
   "cell_type": "markdown",
   "id": "535202f0",
   "metadata": {},
   "source": [
    "`X` is going to be the dataframe with the columns that we want to train on.  \n",
    "`y` is going to be the dataframe with the column of the dependent variable."
   ]
  },
  {
   "cell_type": "code",
   "execution_count": null,
   "id": "b8238c1b",
   "metadata": {},
   "outputs": [],
   "source": [
    "X = data[cols_to_train_on]\n",
    "y = data[col_dep_var]"
   ]
  },
  {
   "cell_type": "code",
   "execution_count": null,
   "id": "128c48e1",
   "metadata": {},
   "outputs": [],
   "source": [
    "X_train, X_test, y_train, y_test = train_test_split(\n",
    "    X, y,\n",
    "    test_size=0.2,\n",
    "    random_state=42\n",
    ")"
   ]
  },
  {
   "cell_type": "markdown",
   "id": "bb6d18e5",
   "metadata": {},
   "source": [
    "We don't need the individual training and testing variables for now; thus, we can consolidate them into training and testing datasets."
   ]
  },
  {
   "cell_type": "code",
   "execution_count": null,
   "id": "0708fcc5",
   "metadata": {},
   "outputs": [],
   "source": [
    "train = pd.DataFrame(X_train)\n",
    "train['previousdispo'] = y_train\n",
    "train.head()"
   ]
  },
  {
   "cell_type": "code",
   "execution_count": null,
   "id": "b5abec9b",
   "metadata": {},
   "outputs": [],
   "source": [
    "test = pd.DataFrame(X_test)\n",
    "test['previousdispo'] = y_test\n",
    "test.head()"
   ]
  },
  {
   "cell_type": "markdown",
   "id": "a8e21b73",
   "metadata": {},
   "source": [
    "Now that the testing dataset is safe from further mutations, we can oversample the minorities in the training dataset."
   ]
  },
  {
   "cell_type": "code",
   "execution_count": null,
   "id": "9d42a632",
   "metadata": {},
   "outputs": [],
   "source": [
    "balancing_col = 'race'\n",
    "cols_without_balancing_col = [\n",
    "    'esi', 'age', 'gender', 'ethnicity', 'lang', 'religion',\n",
    "    'maritalstatus', 'employstatus', 'insurance_status', 'disposition',\n",
    "    'arrivalmode', 'previousdispo'\n",
    "]"
   ]
  },
  {
   "cell_type": "code",
   "execution_count": null,
   "id": "ac17c101",
   "metadata": {},
   "outputs": [],
   "source": [
    "a, b = train[cols_without_balancing_col], train[balancing_col]"
   ]
  },
  {
   "cell_type": "code",
   "execution_count": null,
   "id": "d956b419",
   "metadata": {},
   "outputs": [],
   "source": [
    "from collections import Counter\n",
    "Counter(b)"
   ]
  },
  {
   "cell_type": "code",
   "execution_count": null,
   "id": "f7f10807",
   "metadata": {},
   "outputs": [],
   "source": [
    "transformers['race'].inverse_transform([7, 6, 4, 2, 5, 1, 0, 3])"
   ]
  },
  {
   "cell_type": "markdown",
   "id": "b4c7fadd",
   "metadata": {},
   "source": [
    "# RandomOverSampler"
   ]
  },
  {
   "cell_type": "code",
   "execution_count": null,
   "id": "18a6fe38",
   "metadata": {},
   "outputs": [],
   "source": [
    "# from imblearn.over_sampling import RandomOverSampler\n",
    "# sampler = RandomOverSampler(sampling_strategy='minority')"
   ]
  },
  {
   "cell_type": "code",
   "execution_count": null,
   "id": "025b23b0",
   "metadata": {},
   "outputs": [],
   "source": [
    "# a_resampled, b_resampled = sampler.fit_resample(a, b)\n",
    "# a_resampled, b_resampled = sampler.fit_resample(a_resampled, b_resampled)\n",
    "# a_resampled, b_resampled = sampler.fit_resample(a_resampled, b_resampled)\n",
    "# a_resampled, b_resampled = sampler.fit_resample(a_resampled, b_resampled)"
   ]
  },
  {
   "cell_type": "code",
   "execution_count": null,
   "id": "2caa3671",
   "metadata": {},
   "outputs": [],
   "source": [
    "# a_resampled, b_resampled = sampler.fit_resample(a_resampled, b_resampled)\n",
    "# a_resampled, b_resampled = sampler.fit_resample(a_resampled, b_resampled)"
   ]
  },
  {
   "cell_type": "code",
   "execution_count": null,
   "id": "3bec6cd0",
   "metadata": {},
   "outputs": [],
   "source": [
    "# a_resampled, b_resampled = sampler.fit_resample(a_resampled, b_resampled)"
   ]
  },
  {
   "cell_type": "code",
   "execution_count": null,
   "id": "57499435",
   "metadata": {},
   "outputs": [],
   "source": [
    "# Counter(b_resampled)"
   ]
  },
  {
   "cell_type": "code",
   "execution_count": null,
   "id": "85f2ae55",
   "metadata": {},
   "outputs": [],
   "source": [
    "# a_resampled.shape, b_resampled.shape"
   ]
  },
  {
   "cell_type": "code",
   "execution_count": null,
   "id": "802abb78",
   "metadata": {},
   "outputs": [],
   "source": [
    "# train = pd.DataFrame(a_resampled)\n",
    "# train['race'] = b_resampled\n",
    "# train.head()"
   ]
  },
  {
   "cell_type": "markdown",
   "id": "c7a9fa3b",
   "metadata": {},
   "source": [
    "# SMOTE"
   ]
  },
  {
   "cell_type": "code",
   "execution_count": null,
   "id": "046f8ca3",
   "metadata": {},
   "outputs": [],
   "source": [
    "from imblearn.over_sampling import SMOTE\n",
    "sampler = SMOTE()"
   ]
  },
  {
   "cell_type": "code",
   "execution_count": null,
   "id": "948da751",
   "metadata": {},
   "outputs": [],
   "source": [
    "a_resampled, b_resampled = sampler.fit_resample(a, b)"
   ]
  },
  {
   "cell_type": "code",
   "execution_count": null,
   "id": "f38832d7",
   "metadata": {},
   "outputs": [],
   "source": [
    "Counter(b_resampled)"
   ]
  },
  {
   "cell_type": "markdown",
   "id": "6d523951",
   "metadata": {},
   "source": [
    "# Training"
   ]
  },
  {
   "cell_type": "code",
   "execution_count": null,
   "id": "9dc9117b",
   "metadata": {},
   "outputs": [],
   "source": [
    "train = pd.DataFrame(a_resampled)\n",
    "train['race'] = b_resampled"
   ]
  },
  {
   "cell_type": "code",
   "execution_count": null,
   "id": "d5787faa",
   "metadata": {},
   "outputs": [],
   "source": [
    "train"
   ]
  },
  {
   "cell_type": "code",
   "execution_count": null,
   "id": "78829e54",
   "metadata": {},
   "outputs": [],
   "source": [
    "refined_cols_to_train_on = [\n",
    "    'esi', 'gender', 'ethnicity', 'race', 'religion',\n",
    "    'employstatus', 'insurance_status'\n",
    "]\n",
    "col_dep_var = 'previousdispo'"
   ]
  },
  {
   "cell_type": "code",
   "execution_count": null,
   "id": "82283363",
   "metadata": {},
   "outputs": [],
   "source": [
    "X_train = train[refined_cols_to_train_on]\n",
    "y_train = train[col_dep_var]"
   ]
  },
  {
   "cell_type": "code",
   "execution_count": null,
   "id": "a4c8c370",
   "metadata": {},
   "outputs": [],
   "source": [
    "X_test = test[refined_cols_to_train_on]\n",
    "y_test = test[col_dep_var]"
   ]
  },
  {
   "cell_type": "code",
   "execution_count": null,
   "id": "71b324b0",
   "metadata": {},
   "outputs": [],
   "source": [
    "X_train.shape, y_train.shape, X_test.shape, y_test.shape"
   ]
  },
  {
   "cell_type": "markdown",
   "id": "39a3048c",
   "metadata": {},
   "source": [
    "We can now train models."
   ]
  },
  {
   "cell_type": "code",
   "execution_count": null,
   "id": "5dd750be",
   "metadata": {},
   "outputs": [],
   "source": [
    "from sklearn.ensemble import RandomForestClassifier"
   ]
  },
  {
   "cell_type": "code",
   "execution_count": null,
   "id": "63421e4d",
   "metadata": {
    "scrolled": true
   },
   "outputs": [],
   "source": [
    "model = RandomForestClassifier(300, verbose=2, n_jobs=-1)\n",
    "model.fit(X_train, y_train)"
   ]
  },
  {
   "cell_type": "code",
   "execution_count": null,
   "id": "e6fe4c21",
   "metadata": {},
   "outputs": [],
   "source": [
    "preds = model.predict(X_test)\n",
    "preds"
   ]
  },
  {
   "cell_type": "code",
   "execution_count": null,
   "id": "dc214406",
   "metadata": {},
   "outputs": [],
   "source": [
    "from sklearn.metrics import f1_score"
   ]
  },
  {
   "cell_type": "code",
   "execution_count": null,
   "id": "54a99742",
   "metadata": {},
   "outputs": [],
   "source": [
    "f1_score(y_test, preds, average = None)"
   ]
  },
  {
   "cell_type": "code",
   "execution_count": null,
   "id": "fe1caf32",
   "metadata": {},
   "outputs": [],
   "source": [
    "from sklearn.metrics import confusion_matrix\n",
    "matrix = confusion_matrix(y_test, preds)\n",
    "matrix = matrix.astype('float') / matrix.sum(axis=1)[:, np.newaxis]\n",
    "\n",
    "plt.figure(figsize=(16,7))\n",
    "sns.set(font_scale=1.4)\n",
    "sns.heatmap(matrix, annot=True, annot_kws={'size':10},\n",
    "            cmap=plt.cm.Greens, linewidths=0.2)\n",
    "\n",
    "plot_labels = list(data['previousdispo'].unique())\n",
    "plot_labels.sort()\n",
    "plot_labels_transformed = transformers['previousdispo'].inverse_transform(plot_labels)\n",
    "class_names = list(plot_labels_transformed)\n",
    "tick_marks = np.arange(len(class_names)) + 0.5\n",
    "tick_marks2 = tick_marks + 0.5\n",
    "plt.xticks(tick_marks, class_names, rotation=90)\n",
    "plt.yticks(tick_marks2, class_names, rotation=0)\n",
    "plt.xlabel('Predicted label')\n",
    "plt.ylabel('True label')\n",
    "plt.title('Confusion Matrix for Random Forest Model')\n",
    "plt.show()"
   ]
  },
  {
   "cell_type": "markdown",
   "id": "50faf92f",
   "metadata": {},
   "source": [
    "Random Forest seems to give really terrible results."
   ]
  },
  {
   "cell_type": "code",
   "execution_count": null,
   "id": "c10ea295",
   "metadata": {},
   "outputs": [],
   "source": [
    "import xgboost as xgb"
   ]
  },
  {
   "cell_type": "code",
   "execution_count": null,
   "id": "607f4bdf",
   "metadata": {},
   "outputs": [],
   "source": [
    "classifier = xgb.sklearn.XGBClassifier(nthread=-1, seed=42)"
   ]
  },
  {
   "cell_type": "code",
   "execution_count": null,
   "id": "69a218e2",
   "metadata": {},
   "outputs": [],
   "source": [
    "classifier.fit(X_train, y_train)"
   ]
  },
  {
   "cell_type": "code",
   "execution_count": null,
   "id": "47670961",
   "metadata": {},
   "outputs": [],
   "source": [
    "print(\"Model Accuray: {:.2f}%\".format(100*classifier.score(X_test, y_test)))"
   ]
  },
  {
   "cell_type": "markdown",
   "id": "44d1bf21",
   "metadata": {},
   "source": [
    "# LinearSVC"
   ]
  },
  {
   "cell_type": "code",
   "execution_count": null,
   "id": "4af93fc5",
   "metadata": {},
   "outputs": [],
   "source": [
    "from sklearn.svm import LinearSVC\n",
    "from sklearn.pipeline import make_pipeline"
   ]
  },
  {
   "cell_type": "code",
   "execution_count": null,
   "id": "ecdf663f",
   "metadata": {},
   "outputs": [],
   "source": [
    "clf = make_pipeline(LinearSVC(random_state=42, tol=1e-5, verbose=True))"
   ]
  },
  {
   "cell_type": "code",
   "execution_count": null,
   "id": "f1175246",
   "metadata": {},
   "outputs": [],
   "source": [
    "clf.fit(X_train, y_train)"
   ]
  },
  {
   "cell_type": "code",
   "execution_count": null,
   "id": "d1d8eebd",
   "metadata": {},
   "outputs": [],
   "source": [
    "preds = model.predict(X_test)\n",
    "preds"
   ]
  },
  {
   "cell_type": "code",
   "execution_count": null,
   "id": "ab281ba8",
   "metadata": {},
   "outputs": [],
   "source": [
    "from sklearn.metrics import f1_score"
   ]
  },
  {
   "cell_type": "code",
   "execution_count": null,
   "id": "37bbffed",
   "metadata": {},
   "outputs": [],
   "source": [
    "f1_score(y_test, preds, average = None)"
   ]
  },
  {
   "cell_type": "code",
   "execution_count": null,
   "id": "e04cdf4f",
   "metadata": {},
   "outputs": [],
   "source": []
  }
 ],
 "metadata": {
  "kernelspec": {
   "display_name": "Python 3 (ipykernel)",
   "language": "python",
   "name": "python3"
  },
  "language_info": {
   "codemirror_mode": {
    "name": "ipython",
    "version": 3
   },
   "file_extension": ".py",
   "mimetype": "text/x-python",
   "name": "python",
   "nbconvert_exporter": "python",
   "pygments_lexer": "ipython3",
   "version": "3.10.0"
  }
 },
 "nbformat": 4,
 "nbformat_minor": 5
}
